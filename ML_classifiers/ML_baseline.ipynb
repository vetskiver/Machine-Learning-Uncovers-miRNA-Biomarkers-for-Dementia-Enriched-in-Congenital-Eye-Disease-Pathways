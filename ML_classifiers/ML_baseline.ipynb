{
 "cells": [
  {
   "cell_type": "code",
   "execution_count": 1,
   "id": "a4c6a8f6-7b65-45e0-82fb-0e13b49afe17",
   "metadata": {},
   "outputs": [],
   "source": [
    "import pandas as pd\n",
    "from sklearn.metrics import accuracy_score"
   ]
  },
  {
   "cell_type": "code",
   "execution_count": 2,
   "id": "62dd714a-0076-43b9-bb01-266e3a1ad7cb",
   "metadata": {},
   "outputs": [],
   "source": [
    "# Paths to the datasets\n",
    "train_paths = [\n",
    "    '/home/aghasemi/CompBio481/datasets/filtered_datasets_after_rank_feat_select_branch2_overall/ad_vs_nc_train.csv',\n",
    "    '/home/aghasemi/CompBio481/datasets/filtered_datasets_after_rank_feat_select_branch2_overall/dlb_vs_nc_train.csv',\n",
    "    '/home/aghasemi/CompBio481/datasets/filtered_datasets_after_rank_feat_select_branch2_overall/mci_vs_nc_train.csv',\n",
    "    '/home/aghasemi/CompBio481/datasets/filtered_datasets_after_rank_feat_select_branch2_overall/nph_vs_nc_train.csv',\n",
    "    '/home/aghasemi/CompBio481/datasets/filtered_datasets_after_rank_feat_select_branch2_overall/vad_vs_nc_train.csv',\n",
    "]\n",
    "test_paths = [\n",
    "        '/home/aghasemi/CompBio481/datasets/filtered_datasets_after_rank_feat_select_branch2_overall/ad_vs_nc_test.csv',\n",
    "    '/home/aghasemi/CompBio481/datasets/filtered_datasets_after_rank_feat_select_branch2_overall/dlb_vs_nc_test.csv',\n",
    "    '/home/aghasemi/CompBio481/datasets/filtered_datasets_after_rank_feat_select_branch2_overall/mci_vs_nc_test.csv',\n",
    "    '/home/aghasemi/CompBio481/datasets/filtered_datasets_after_rank_feat_select_branch2_overall/nph_vs_nc_test.csv',\n",
    "    '/home/aghasemi/CompBio481/datasets/filtered_datasets_after_rank_feat_select_branch2_overall/vad_vs_nc_test.csv',\n",
    "]"
   ]
  },
  {
   "cell_type": "code",
   "execution_count": 3,
   "id": "4d5b0cc9-d5cb-439e-aa8e-58940c962f80",
   "metadata": {},
   "outputs": [
    {
     "name": "stderr",
     "output_type": "stream",
     "text": [
      "/tmp/ipykernel_15700/1549134720.py:25: FutureWarning: The frame.append method is deprecated and will be removed from pandas in a future version. Use pandas.concat instead.\n",
      "  baseline_accuracies = baseline_accuracies.append({'Dataset': dataset_name, 'Baseline Accuracy': baseline_accuracy}, ignore_index=True)\n",
      "/tmp/ipykernel_15700/1549134720.py:25: FutureWarning: The frame.append method is deprecated and will be removed from pandas in a future version. Use pandas.concat instead.\n",
      "  baseline_accuracies = baseline_accuracies.append({'Dataset': dataset_name, 'Baseline Accuracy': baseline_accuracy}, ignore_index=True)\n",
      "/tmp/ipykernel_15700/1549134720.py:25: FutureWarning: The frame.append method is deprecated and will be removed from pandas in a future version. Use pandas.concat instead.\n",
      "  baseline_accuracies = baseline_accuracies.append({'Dataset': dataset_name, 'Baseline Accuracy': baseline_accuracy}, ignore_index=True)\n",
      "/tmp/ipykernel_15700/1549134720.py:25: FutureWarning: The frame.append method is deprecated and will be removed from pandas in a future version. Use pandas.concat instead.\n",
      "  baseline_accuracies = baseline_accuracies.append({'Dataset': dataset_name, 'Baseline Accuracy': baseline_accuracy}, ignore_index=True)\n",
      "/tmp/ipykernel_15700/1549134720.py:25: FutureWarning: The frame.append method is deprecated and will be removed from pandas in a future version. Use pandas.concat instead.\n",
      "  baseline_accuracies = baseline_accuracies.append({'Dataset': dataset_name, 'Baseline Accuracy': baseline_accuracy}, ignore_index=True)\n"
     ]
    }
   ],
   "source": [
    "# Initialize a DataFrame to store baseline accuracies\n",
    "baseline_accuracies = pd.DataFrame(columns=['Dataset', 'Baseline Accuracy'])\n",
    "\n",
    "# Loop through each train and test dataset path\n",
    "for train_path, test_path in zip(train_paths, test_paths):\n",
    "    # Load the datasets\n",
    "    train_data = pd.read_csv(train_path)\n",
    "    test_data = pd.read_csv(test_path)\n",
    "\n",
    "    # Assuming 'Diagnosis' is the target variable\n",
    "    y_train = train_data['Diagnosis']\n",
    "    y_test = test_data['Diagnosis']\n",
    "\n",
    "    # Calculate the most frequent class in the training set\n",
    "    most_frequent_class = y_train.mode()[0]\n",
    "\n",
    "    # Predict this class for all test instances\n",
    "    y_pred = [most_frequent_class] * len(y_test)\n",
    "\n",
    "    # Calculate the accuracy of this baseline prediction\n",
    "    baseline_accuracy = accuracy_score(y_test, y_pred)\n",
    "\n",
    "    # Append results to the DataFrame\n",
    "    dataset_name = train_path.split('/')[-1].replace('_train.csv', '')\n",
    "    baseline_accuracies = baseline_accuracies.append({'Dataset': dataset_name, 'Baseline Accuracy': baseline_accuracy}, ignore_index=True)"
   ]
  },
  {
   "cell_type": "code",
   "execution_count": 4,
   "id": "19bc530c-e56a-4751-a520-222981480dc9",
   "metadata": {},
   "outputs": [
    {
     "name": "stdout",
     "output_type": "stream",
     "text": [
      "     Dataset  Baseline Accuracy\n",
      "0   ad_vs_nc           0.770992\n",
      "1  dlb_vs_nc           0.576087\n",
      "2  mci_vs_nc           0.890625\n",
      "3  nph_vs_nc           0.693333\n",
      "4  vad_vs_nc           0.657895\n"
     ]
    }
   ],
   "source": [
    "# Print the DataFrame with all baseline accuracies\n",
    "print(baseline_accuracies)\n",
    "\n",
    "# Optionally, save to CSV\n",
    "baseline_accuracies.to_csv('/home/aghasemi/CompBio481/ML_classifiers/ML_classifiers_results/baseline_accuracies.csv', index=False)"
   ]
  },
  {
   "cell_type": "code",
   "execution_count": null,
   "id": "42e9cd4d-6caa-40ce-963d-d5fc176b1193",
   "metadata": {},
   "outputs": [],
   "source": []
  }
 ],
 "metadata": {
  "kernelspec": {
   "display_name": "Python 3 (ipykernel)",
   "language": "python",
   "name": "python3"
  },
  "language_info": {
   "codemirror_mode": {
    "name": "ipython",
    "version": 3
   },
   "file_extension": ".py",
   "mimetype": "text/x-python",
   "name": "python",
   "nbconvert_exporter": "python",
   "pygments_lexer": "ipython3",
   "version": "3.11.4"
  }
 },
 "nbformat": 4,
 "nbformat_minor": 5
}
