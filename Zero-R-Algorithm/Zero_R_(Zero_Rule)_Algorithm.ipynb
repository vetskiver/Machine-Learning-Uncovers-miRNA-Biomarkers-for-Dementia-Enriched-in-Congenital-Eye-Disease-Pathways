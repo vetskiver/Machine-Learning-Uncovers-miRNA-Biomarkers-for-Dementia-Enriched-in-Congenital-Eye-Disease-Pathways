{
  "nbformat": 4,
  "nbformat_minor": 0,
  "metadata": {
    "colab": {
      "provenance": []
    },
    "kernelspec": {
      "name": "python3",
      "display_name": "Python 3"
    },
    "language_info": {
      "name": "python"
    }
  },
  "cells": [
    {
      "cell_type": "markdown",
      "source": [
        "**Zero-R (Zero-Rule) Algorithm**\n",
        "\n",
        "*   Simplest classification model used to establish a baseline accuracy.\n",
        "*    Ignores all predictors and simply predicts the most frequent class label in the training data.\n",
        "*   Provides a naive but useful performance metric known as the **baseline accuracy**."
      ],
      "metadata": {
        "id": "13SlOLplVDwq"
      }
    },
    {
      "cell_type": "markdown",
      "source": [
        "**Baseline Accuracies for Overall**"
      ],
      "metadata": {
        "id": "CWicCzOsXUxY"
      }
    },
    {
      "cell_type": "code",
      "source": [
        "# List of file paths\n",
        "file_paths = [\n",
        "    '/content/ad_vs_nc_train.csv',\n",
        "    '/content/dlb_vs_nc_train.csv',\n",
        "    '/content/mci_vs_nc_train.csv',\n",
        "    '/content/nph_vs_nc_train.csv',\n",
        "    '/content/vad_vs_nc_train.csv'\n",
        "]\n",
        "\n",
        "# Function to calculate baseline accuracy\n",
        "def calculate_baseline_accuracy(file_path):\n",
        "    df = pd.read_csv(file_path)\n",
        "\n",
        "    # Determine the most frequent class in the target column (Diagnosis)\n",
        "    most_frequent_class = df['Diagnosis'].mode()[0]\n",
        "    print(f\"Most frequent class in {file_path}: {most_frequent_class}\")\n",
        "\n",
        "    # Calculate the baseline accuracy\n",
        "    baseline_accuracy = (df['Diagnosis'] == most_frequent_class).mean()\n",
        "    print(f\"Baseline Accuracy for {file_path}: {baseline_accuracy:.4f}\\n\")\n",
        "\n",
        "# Iterate over the file paths and calculate baseline accuracy for each\n",
        "for file_path in file_paths:\n",
        "    calculate_baseline_accuracy(file_path)"
      ],
      "metadata": {
        "colab": {
          "base_uri": "https://localhost:8080/"
        },
        "id": "K0kt0hB4495r",
        "outputId": "b1238a01-6d3a-4925-c638-5f781e7cb29b"
      },
      "execution_count": null,
      "outputs": [
        {
          "output_type": "stream",
          "name": "stdout",
          "text": [
            "Most frequent class in /content/ad_vs_nc_train.csv: 1\n",
            "Baseline Accuracy for /content/ad_vs_nc_train.csv: 0.7822\n",
            "\n",
            "Most frequent class in /content/dlb_vs_nc_train.csv: 0\n",
            "Baseline Accuracy for /content/dlb_vs_nc_train.csv: 0.6438\n",
            "\n",
            "Most frequent class in /content/mci_vs_nc_train.csv: 0\n",
            "Baseline Accuracy for /content/mci_vs_nc_train.csv: 0.9023\n",
            "\n",
            "Most frequent class in /content/nph_vs_nc_train.csv: 0\n",
            "Baseline Accuracy for /content/nph_vs_nc_train.csv: 0.7946\n",
            "\n",
            "Most frequent class in /content/vad_vs_nc_train.csv: 0\n",
            "Baseline Accuracy for /content/vad_vs_nc_train.csv: 0.7855\n",
            "\n"
          ]
        }
      ]
    },
    {
      "cell_type": "markdown",
      "source": [
        "**Baseline Accuracies for Sex Specific**"
      ],
      "metadata": {
        "id": "yll9GKT1XYih"
      }
    },
    {
      "cell_type": "code",
      "source": [
        "import pandas as pd\n",
        "\n",
        "# List of file paths\n",
        "file_paths = [\n",
        "    '/content/ad_vs_nc_train.csv',\n",
        "    '/content/dlb_vs_nc_train.csv',\n",
        "    '/content/mci_vs_nc_train.csv',\n",
        "    '/content/nph_vs_nc_train.csv',\n",
        "    '/content/vad_vs_nc_train.csv'\n",
        "]\n",
        "\n",
        "# Function to calculate baseline accuracy\n",
        "def calculate_baseline_accuracy(df, group_name, file_path):\n",
        "    # Determine the most frequent class in the target column (Diagnosis)\n",
        "    most_frequent_class = df['Diagnosis'].mode()[0]\n",
        "    print(f\"Most frequent class in {group_name} of {file_path}: {most_frequent_class}\")\n",
        "\n",
        "    # Calculate the baseline accuracy\n",
        "    baseline_accuracy = (df['Diagnosis'] == most_frequent_class).mean()\n",
        "    print(f\"Baseline Accuracy for {group_name} of {file_path}: {baseline_accuracy:.4f}\\n\")\n",
        "\n",
        "# Function to process each file\n",
        "def process_file(file_path):\n",
        "    df = pd.read_csv(file_path)\n",
        "\n",
        "    # Split the df into male and female datasets\n",
        "    male_df = df[df['Sex'] == 1]\n",
        "    female_df = df[df['Sex'] == 0]\n",
        "\n",
        "    # Calculate baseline accuracy for the male dataset\n",
        "    if not male_df.empty:\n",
        "        calculate_baseline_accuracy(male_df, 'Male', file_path)\n",
        "    else:\n",
        "        print(f\"No male data in {file_path}\\n\")\n",
        "\n",
        "    # Calculate baseline accuracy for the female dataset\n",
        "    if not female_df.empty:\n",
        "        calculate_baseline_accuracy(female_df, 'Female', file_path)\n",
        "    else:\n",
        "        print(f\"No female data in {file_path}\\n\")\n",
        "\n",
        "# Iterate over the file paths and process each file\n",
        "for file_path in file_paths:\n",
        "    process_file(file_path)"
      ],
      "metadata": {
        "colab": {
          "base_uri": "https://localhost:8080/"
        },
        "id": "bIGbvJV4XcDs",
        "outputId": "431895b9-5342-4656-c5a0-d84219a5bc09"
      },
      "execution_count": null,
      "outputs": [
        {
          "output_type": "stream",
          "name": "stdout",
          "text": [
            "Most frequent class in Male of /content/ad_vs_nc_train.csv: 1\n",
            "Baseline Accuracy for Male of /content/ad_vs_nc_train.csv: 0.6694\n",
            "\n",
            "Most frequent class in Female of /content/ad_vs_nc_train.csv: 1\n",
            "Baseline Accuracy for Female of /content/ad_vs_nc_train.csv: 0.8444\n",
            "\n",
            "Most frequent class in Male of /content/dlb_vs_nc_train.csv: 0\n",
            "Baseline Accuracy for Male of /content/dlb_vs_nc_train.csv: 0.7039\n",
            "\n",
            "Most frequent class in Female of /content/dlb_vs_nc_train.csv: 0\n",
            "Baseline Accuracy for Female of /content/dlb_vs_nc_train.csv: 0.5860\n",
            "\n",
            "Most frequent class in Male of /content/mci_vs_nc_train.csv: 0\n",
            "Baseline Accuracy for Male of /content/mci_vs_nc_train.csv: 0.9531\n",
            "\n",
            "Most frequent class in Female of /content/mci_vs_nc_train.csv: 0\n",
            "Baseline Accuracy for Female of /content/mci_vs_nc_train.csv: 0.8516\n",
            "\n",
            "Most frequent class in Male of /content/nph_vs_nc_train.csv: 0\n",
            "Baseline Accuracy for Male of /content/nph_vs_nc_train.csv: 0.7898\n",
            "\n",
            "Most frequent class in Female of /content/nph_vs_nc_train.csv: 0\n",
            "Baseline Accuracy for Female of /content/nph_vs_nc_train.csv: 0.8000\n",
            "\n",
            "Most frequent class in Male of /content/vad_vs_nc_train.csv: 0\n",
            "Baseline Accuracy for Male of /content/vad_vs_nc_train.csv: 0.7515\n",
            "\n",
            "Most frequent class in Female of /content/vad_vs_nc_train.csv: 0\n",
            "Baseline Accuracy for Female of /content/vad_vs_nc_train.csv: 0.8284\n",
            "\n"
          ]
        }
      ]
    },
    {
      "cell_type": "markdown",
      "source": [
        "**Baseline Accuracies for Multi-Class (branch 3)**"
      ],
      "metadata": {
        "id": "g1LDqGdPy6x7"
      }
    },
    {
      "cell_type": "code",
      "source": [
        "import pandas as pd\n",
        "\n",
        "# Path to the multi-class dataset\n",
        "file_path = '/content/multi_class_train_dataset.csv'\n",
        "\n",
        "# Function to calculate baseline accuracy for a multi-class dataset\n",
        "def calculate_baseline_accuracy(file_path):\n",
        "    df = pd.read_csv(file_path)\n",
        "\n",
        "    # Determine the most frequent class in the target column (Diagnosis)\n",
        "    most_frequent_class = df['Diagnosis'].mode()[0]\n",
        "    print(f\"Most frequent class in {file_path}: {most_frequent_class}\")\n",
        "\n",
        "    # Calculate the baseline accuracy\n",
        "    baseline_accuracy = (df['Diagnosis'] == most_frequent_class).mean()\n",
        "    print(f\"Baseline Accuracy for {file_path}: {baseline_accuracy:.4f}\\n\")\n",
        "\n",
        "# Calculate baseline accuracy for the multi-class dataset\n",
        "calculate_baseline_accuracy(file_path)"
      ],
      "metadata": {
        "colab": {
          "base_uri": "https://localhost:8080/"
        },
        "id": "cgg4Ouf0y83l",
        "outputId": "9beb5207-5c16-4770-b244-400cf384b187"
      },
      "execution_count": null,
      "outputs": [
        {
          "output_type": "stream",
          "name": "stdout",
          "text": [
            "Most frequent class in /content/multi_class_train_dataset.csv: 1\n",
            "Baseline Accuracy for /content/multi_class_train_dataset.csv: 0.5950\n",
            "\n"
          ]
        }
      ]
    },
    {
      "cell_type": "markdown",
      "source": [
        "**Baseline Accuracies for multi-class (Male)**"
      ],
      "metadata": {
        "id": "NPipSdLBnexA"
      }
    },
    {
      "cell_type": "code",
      "source": [
        "import pandas as pd\n",
        "\n",
        "# Path to the multi-class dataset\n",
        "file_path = '/content/multi_class_train_dataset.csv'\n",
        "\n",
        "# Function to calculate baseline accuracy for a multi-class dataset with a specific filter\n",
        "def calculate_filtered_baseline_accuracy(file_path):\n",
        "    df = pd.read_csv(file_path)\n",
        "\n",
        "    # Filter the dataset to include only samples with 'Sex' == 1\n",
        "    filtered_df = df[df['Sex'] == 1]\n",
        "\n",
        "    # Determine the most frequent class in the target column (Diagnosis) in the filtered dataset\n",
        "    most_frequent_class = filtered_df['Diagnosis'].mode()[0]\n",
        "    print(f\"Most frequent class in filtered dataset: {most_frequent_class}\")\n",
        "\n",
        "    # Calculate the baseline accuracy for the filtered dataset\n",
        "    baseline_accuracy = (filtered_df['Diagnosis'] == most_frequent_class).mean()\n",
        "    print(f\"Baseline Accuracy for filtered dataset: {baseline_accuracy:.4f}\\n\")\n",
        "\n",
        "# Calculate baseline accuracy for the filtered multi-class dataset\n",
        "calculate_filtered_baseline_accuracy(file_path)"
      ],
      "metadata": {
        "id": "xf8woU6bzg0w",
        "colab": {
          "base_uri": "https://localhost:8080/"
        },
        "outputId": "0ef44c3d-d06d-4736-e7f2-4890265f4e03"
      },
      "execution_count": 1,
      "outputs": [
        {
          "output_type": "stream",
          "name": "stdout",
          "text": [
            "Most frequent class in filtered dataset: 1\n",
            "Baseline Accuracy for filtered dataset: 0.4701\n",
            "\n"
          ]
        }
      ]
    },
    {
      "cell_type": "markdown",
      "source": [
        "**Baseline Accuracies for multi-class (Female)**"
      ],
      "metadata": {
        "id": "HobwSplKn2Gt"
      }
    },
    {
      "cell_type": "code",
      "source": [
        "import pandas as pd\n",
        "\n",
        "# Path to the multi-class dataset\n",
        "file_path = '/content/multi_class_train_dataset.csv'\n",
        "\n",
        "# Function to calculate baseline accuracy for a multi-class dataset with a specific filter\n",
        "def calculate_filtered_baseline_accuracy(file_path):\n",
        "    df = pd.read_csv(file_path)\n",
        "\n",
        "    # Filter the dataset to include only samples with 'Sex' == 1\n",
        "    filtered_df = df[df['Sex'] == 0]\n",
        "\n",
        "    # Determine the most frequent class in the target column (Diagnosis) in the filtered dataset\n",
        "    most_frequent_class = filtered_df['Diagnosis'].mode()[0]\n",
        "    print(f\"Most frequent class in filtered dataset: {most_frequent_class}\")\n",
        "\n",
        "    # Calculate the baseline accuracy for the filtered dataset\n",
        "    baseline_accuracy = (filtered_df['Diagnosis'] == most_frequent_class).mean()\n",
        "    print(f\"Baseline Accuracy for filtered dataset: {baseline_accuracy:.4f}\\n\")\n",
        "\n",
        "# Calculate baseline accuracy for the filtered multi-class dataset\n",
        "calculate_filtered_baseline_accuracy(file_path)"
      ],
      "metadata": {
        "colab": {
          "base_uri": "https://localhost:8080/"
        },
        "id": "r9jQEyejnvqZ",
        "outputId": "79adfda9-341d-4fe5-955c-fa3eecd7ad16"
      },
      "execution_count": 2,
      "outputs": [
        {
          "output_type": "stream",
          "name": "stdout",
          "text": [
            "Most frequent class in filtered dataset: 1\n",
            "Baseline Accuracy for filtered dataset: 0.6690\n",
            "\n"
          ]
        }
      ]
    },
    {
      "cell_type": "code",
      "source": [],
      "metadata": {
        "id": "W4pi_xVLoNwY"
      },
      "execution_count": null,
      "outputs": []
    }
  ]
}