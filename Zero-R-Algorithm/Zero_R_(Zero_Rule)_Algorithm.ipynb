{
  "nbformat": 4,
  "nbformat_minor": 0,
  "metadata": {
    "colab": {
      "provenance": []
    },
    "kernelspec": {
      "name": "python3",
      "display_name": "Python 3"
    },
    "language_info": {
      "name": "python"
    }
  },
  "cells": [
    {
      "cell_type": "markdown",
      "source": [
        "**Zero-R (Zero-Rule) Algorithm**\n",
        "\n",
        "*   Simplest classification model used to establish a baseline accuracy.\n",
        "*    Ignores all predictors and simply predicts the most frequent class label in the training data.\n",
        "*   Provides a naive but useful performance metric known as the **baseline accuracy**."
      ],
      "metadata": {
        "id": "13SlOLplVDwq"
      }
    },
    {
      "cell_type": "code",
      "source": [
        "# List of file paths\n",
        "file_paths = [\n",
        "    '/content/ad_vs_nc_train.csv',\n",
        "    '/content/dlb_vs_nc_train.csv',\n",
        "    '/content/mci_vs_nc_train.csv',\n",
        "    '/content/nph_vs_nc_train.csv',\n",
        "    '/content/vad_vs_nc_train.csv'\n",
        "]\n",
        "\n",
        "# Function to calculate baseline accuracy\n",
        "def calculate_baseline_accuracy(file_path):\n",
        "    df = pd.read_csv(file_path)\n",
        "\n",
        "    # Determine the most frequent class in the target column (Diagnosis)\n",
        "    most_frequent_class = df['Diagnosis'].mode()[0]\n",
        "    print(f\"Most frequent class in {file_path}: {most_frequent_class}\")\n",
        "\n",
        "    # Calculate the baseline accuracy\n",
        "    baseline_accuracy = (df['Diagnosis'] == most_frequent_class).mean()\n",
        "    print(f\"Baseline Accuracy for {file_path}: {baseline_accuracy:.4f}\\n\")\n",
        "\n",
        "# Iterate over the file paths and calculate baseline accuracy for each\n",
        "for file_path in file_paths:\n",
        "    calculate_baseline_accuracy(file_path)"
      ],
      "metadata": {
        "colab": {
          "base_uri": "https://localhost:8080/"
        },
        "id": "K0kt0hB4495r",
        "outputId": "b1238a01-6d3a-4925-c638-5f781e7cb29b"
      },
      "execution_count": null,
      "outputs": [
        {
          "output_type": "stream",
          "name": "stdout",
          "text": [
            "Most frequent class in /content/ad_vs_nc_train.csv: 1\n",
            "Baseline Accuracy for /content/ad_vs_nc_train.csv: 0.7822\n",
            "\n",
            "Most frequent class in /content/dlb_vs_nc_train.csv: 0\n",
            "Baseline Accuracy for /content/dlb_vs_nc_train.csv: 0.6438\n",
            "\n",
            "Most frequent class in /content/mci_vs_nc_train.csv: 0\n",
            "Baseline Accuracy for /content/mci_vs_nc_train.csv: 0.9023\n",
            "\n",
            "Most frequent class in /content/nph_vs_nc_train.csv: 0\n",
            "Baseline Accuracy for /content/nph_vs_nc_train.csv: 0.7946\n",
            "\n",
            "Most frequent class in /content/vad_vs_nc_train.csv: 0\n",
            "Baseline Accuracy for /content/vad_vs_nc_train.csv: 0.7855\n",
            "\n"
          ]
        }
      ]
    }
  ]
}