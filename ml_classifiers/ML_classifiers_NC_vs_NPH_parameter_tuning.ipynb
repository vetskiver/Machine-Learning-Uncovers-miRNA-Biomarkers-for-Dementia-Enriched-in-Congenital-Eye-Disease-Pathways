{
 "cells": [
  {
   "cell_type": "code",
   "execution_count": 1,
   "id": "bfb4279b-b15b-4a68-923f-2b108416926a",
   "metadata": {},
   "outputs": [],
   "source": [
    "import pandas as pd\n",
    "from sklearn.linear_model import LogisticRegression\n",
    "from sklearn.model_selection import GridSearchCV, train_test_split\n",
    "from sklearn.metrics import accuracy_score, classification_report\n",
    "from xgboost import XGBClassifier\n",
    "from sklearn.svm import SVC"
   ]
  },
  {
   "cell_type": "code",
   "execution_count": 2,
   "id": "e3e31a5c-a0fc-4a01-a0b8-85b1b86aee19",
   "metadata": {},
   "outputs": [],
   "source": [
    "# Paths to the datasets\n",
    "train_dataset = '/home/aghasemi/CompBio481/ML_classifiers/datasets/NC_vs_NPH_train.csv'\n",
    "test_dataset = '/home/aghasemi/CompBio481/ML_classifiers/datasets/NC_vs_NPH_test.csv'"
   ]
  },
  {
   "cell_type": "code",
   "execution_count": 3,
   "id": "ec85478c-a16a-4a04-be56-511028492fb8",
   "metadata": {},
   "outputs": [],
   "source": [
    "train_df = pd.read_csv(train_dataset)\n",
    "test_df = pd.read_csv(test_dataset)"
   ]
  },
  {
   "cell_type": "code",
   "execution_count": 4,
   "id": "79b1a56a-8032-4fc4-b521-04f673d151a5",
   "metadata": {},
   "outputs": [],
   "source": [
    "# Separate features and target variable for training data\n",
    "X_train = train_df.drop(columns=['ID_1', 'Diagnosis'])\n",
    "y_train = train_df['Diagnosis']"
   ]
  },
  {
   "cell_type": "code",
   "execution_count": 5,
   "id": "b348786a-2a65-46a6-b4b9-645f41957bb6",
   "metadata": {},
   "outputs": [],
   "source": [
    "# Separate features and target variable for test data\n",
    "X_test = test_df.drop(columns=['ID_1', 'Diagnosis'])\n",
    "y_test = test_df['Diagnosis']"
   ]
  },
  {
   "cell_type": "code",
   "execution_count": 6,
   "id": "7169a831-0144-4f70-bede-a4a00f144069",
   "metadata": {},
   "outputs": [],
   "source": [
    "# Logistic Regression\n",
    "param_grid_lr = {\n",
    "    'C': [0.1, 1, 10, 100],\n",
    "    'solver': ['liblinear', 'saga'],\n",
    "    'max_iter': [100, 200, 500]\n",
    "}"
   ]
  },
  {
   "cell_type": "code",
   "execution_count": 7,
   "id": "b144ea7d-9548-45b2-aef6-59073add0c7f",
   "metadata": {},
   "outputs": [
    {
     "name": "stderr",
     "output_type": "stream",
     "text": [
      "/local/JupyterHub/envs/jupyterhub/lib/python3.11/site-packages/sklearn/linear_model/_sag.py:350: ConvergenceWarning: The max_iter was reached which means the coef_ did not converge\n",
      "  warnings.warn(\n",
      "/local/JupyterHub/envs/jupyterhub/lib/python3.11/site-packages/sklearn/linear_model/_sag.py:350: ConvergenceWarning: The max_iter was reached which means the coef_ did not converge\n",
      "  warnings.warn(\n",
      "/local/JupyterHub/envs/jupyterhub/lib/python3.11/site-packages/sklearn/linear_model/_sag.py:350: ConvergenceWarning: The max_iter was reached which means the coef_ did not converge\n",
      "  warnings.warn(\n",
      "/local/JupyterHub/envs/jupyterhub/lib/python3.11/site-packages/sklearn/linear_model/_sag.py:350: ConvergenceWarning: The max_iter was reached which means the coef_ did not converge\n",
      "  warnings.warn(\n",
      "/local/JupyterHub/envs/jupyterhub/lib/python3.11/site-packages/sklearn/linear_model/_sag.py:350: ConvergenceWarning: The max_iter was reached which means the coef_ did not converge\n",
      "  warnings.warn(\n",
      "/local/JupyterHub/envs/jupyterhub/lib/python3.11/site-packages/sklearn/linear_model/_sag.py:350: ConvergenceWarning: The max_iter was reached which means the coef_ did not converge\n",
      "  warnings.warn(\n",
      "/local/JupyterHub/envs/jupyterhub/lib/python3.11/site-packages/sklearn/linear_model/_sag.py:350: ConvergenceWarning: The max_iter was reached which means the coef_ did not converge\n",
      "  warnings.warn(\n",
      "/local/JupyterHub/envs/jupyterhub/lib/python3.11/site-packages/sklearn/linear_model/_sag.py:350: ConvergenceWarning: The max_iter was reached which means the coef_ did not converge\n",
      "  warnings.warn(\n",
      "/local/JupyterHub/envs/jupyterhub/lib/python3.11/site-packages/sklearn/linear_model/_sag.py:350: ConvergenceWarning: The max_iter was reached which means the coef_ did not converge\n",
      "  warnings.warn(\n",
      "/local/JupyterHub/envs/jupyterhub/lib/python3.11/site-packages/sklearn/linear_model/_sag.py:350: ConvergenceWarning: The max_iter was reached which means the coef_ did not converge\n",
      "  warnings.warn(\n",
      "/local/JupyterHub/envs/jupyterhub/lib/python3.11/site-packages/sklearn/linear_model/_sag.py:350: ConvergenceWarning: The max_iter was reached which means the coef_ did not converge\n",
      "  warnings.warn(\n",
      "/local/JupyterHub/envs/jupyterhub/lib/python3.11/site-packages/sklearn/linear_model/_sag.py:350: ConvergenceWarning: The max_iter was reached which means the coef_ did not converge\n",
      "  warnings.warn(\n",
      "/local/JupyterHub/envs/jupyterhub/lib/python3.11/site-packages/sklearn/linear_model/_sag.py:350: ConvergenceWarning: The max_iter was reached which means the coef_ did not converge\n",
      "  warnings.warn(\n",
      "/local/JupyterHub/envs/jupyterhub/lib/python3.11/site-packages/sklearn/linear_model/_sag.py:350: ConvergenceWarning: The max_iter was reached which means the coef_ did not converge\n",
      "  warnings.warn(\n",
      "/local/JupyterHub/envs/jupyterhub/lib/python3.11/site-packages/sklearn/linear_model/_sag.py:350: ConvergenceWarning: The max_iter was reached which means the coef_ did not converge\n",
      "  warnings.warn(\n",
      "/local/JupyterHub/envs/jupyterhub/lib/python3.11/site-packages/sklearn/linear_model/_sag.py:350: ConvergenceWarning: The max_iter was reached which means the coef_ did not converge\n",
      "  warnings.warn(\n",
      "/local/JupyterHub/envs/jupyterhub/lib/python3.11/site-packages/sklearn/linear_model/_sag.py:350: ConvergenceWarning: The max_iter was reached which means the coef_ did not converge\n",
      "  warnings.warn(\n",
      "/local/JupyterHub/envs/jupyterhub/lib/python3.11/site-packages/sklearn/linear_model/_sag.py:350: ConvergenceWarning: The max_iter was reached which means the coef_ did not converge\n",
      "  warnings.warn(\n",
      "/local/JupyterHub/envs/jupyterhub/lib/python3.11/site-packages/sklearn/linear_model/_sag.py:350: ConvergenceWarning: The max_iter was reached which means the coef_ did not converge\n",
      "  warnings.warn(\n",
      "/local/JupyterHub/envs/jupyterhub/lib/python3.11/site-packages/sklearn/linear_model/_sag.py:350: ConvergenceWarning: The max_iter was reached which means the coef_ did not converge\n",
      "  warnings.warn(\n",
      "/local/JupyterHub/envs/jupyterhub/lib/python3.11/site-packages/sklearn/linear_model/_sag.py:350: ConvergenceWarning: The max_iter was reached which means the coef_ did not converge\n",
      "  warnings.warn(\n",
      "/local/JupyterHub/envs/jupyterhub/lib/python3.11/site-packages/sklearn/linear_model/_sag.py:350: ConvergenceWarning: The max_iter was reached which means the coef_ did not converge\n",
      "  warnings.warn(\n",
      "/local/JupyterHub/envs/jupyterhub/lib/python3.11/site-packages/sklearn/linear_model/_sag.py:350: ConvergenceWarning: The max_iter was reached which means the coef_ did not converge\n",
      "  warnings.warn(\n",
      "/local/JupyterHub/envs/jupyterhub/lib/python3.11/site-packages/sklearn/linear_model/_sag.py:350: ConvergenceWarning: The max_iter was reached which means the coef_ did not converge\n",
      "  warnings.warn(\n",
      "/local/JupyterHub/envs/jupyterhub/lib/python3.11/site-packages/sklearn/linear_model/_sag.py:350: ConvergenceWarning: The max_iter was reached which means the coef_ did not converge\n",
      "  warnings.warn(\n",
      "/local/JupyterHub/envs/jupyterhub/lib/python3.11/site-packages/sklearn/linear_model/_sag.py:350: ConvergenceWarning: The max_iter was reached which means the coef_ did not converge\n",
      "  warnings.warn(\n",
      "/local/JupyterHub/envs/jupyterhub/lib/python3.11/site-packages/sklearn/linear_model/_sag.py:350: ConvergenceWarning: The max_iter was reached which means the coef_ did not converge\n",
      "  warnings.warn(\n",
      "/local/JupyterHub/envs/jupyterhub/lib/python3.11/site-packages/sklearn/linear_model/_sag.py:350: ConvergenceWarning: The max_iter was reached which means the coef_ did not converge\n",
      "  warnings.warn(\n",
      "/local/JupyterHub/envs/jupyterhub/lib/python3.11/site-packages/sklearn/linear_model/_sag.py:350: ConvergenceWarning: The max_iter was reached which means the coef_ did not converge\n",
      "  warnings.warn(\n",
      "/local/JupyterHub/envs/jupyterhub/lib/python3.11/site-packages/sklearn/linear_model/_sag.py:350: ConvergenceWarning: The max_iter was reached which means the coef_ did not converge\n",
      "  warnings.warn(\n",
      "/local/JupyterHub/envs/jupyterhub/lib/python3.11/site-packages/sklearn/linear_model/_sag.py:350: ConvergenceWarning: The max_iter was reached which means the coef_ did not converge\n",
      "  warnings.warn(\n",
      "/local/JupyterHub/envs/jupyterhub/lib/python3.11/site-packages/sklearn/linear_model/_sag.py:350: ConvergenceWarning: The max_iter was reached which means the coef_ did not converge\n",
      "  warnings.warn(\n",
      "/local/JupyterHub/envs/jupyterhub/lib/python3.11/site-packages/sklearn/linear_model/_sag.py:350: ConvergenceWarning: The max_iter was reached which means the coef_ did not converge\n",
      "  warnings.warn(\n",
      "/local/JupyterHub/envs/jupyterhub/lib/python3.11/site-packages/sklearn/linear_model/_sag.py:350: ConvergenceWarning: The max_iter was reached which means the coef_ did not converge\n",
      "  warnings.warn(\n",
      "/local/JupyterHub/envs/jupyterhub/lib/python3.11/site-packages/sklearn/linear_model/_sag.py:350: ConvergenceWarning: The max_iter was reached which means the coef_ did not converge\n",
      "  warnings.warn(\n",
      "/local/JupyterHub/envs/jupyterhub/lib/python3.11/site-packages/sklearn/linear_model/_sag.py:350: ConvergenceWarning: The max_iter was reached which means the coef_ did not converge\n",
      "  warnings.warn(\n",
      "/local/JupyterHub/envs/jupyterhub/lib/python3.11/site-packages/sklearn/linear_model/_sag.py:350: ConvergenceWarning: The max_iter was reached which means the coef_ did not converge\n",
      "  warnings.warn(\n",
      "/local/JupyterHub/envs/jupyterhub/lib/python3.11/site-packages/sklearn/linear_model/_sag.py:350: ConvergenceWarning: The max_iter was reached which means the coef_ did not converge\n",
      "  warnings.warn(\n",
      "/local/JupyterHub/envs/jupyterhub/lib/python3.11/site-packages/sklearn/linear_model/_sag.py:350: ConvergenceWarning: The max_iter was reached which means the coef_ did not converge\n",
      "  warnings.warn(\n",
      "/local/JupyterHub/envs/jupyterhub/lib/python3.11/site-packages/sklearn/linear_model/_sag.py:350: ConvergenceWarning: The max_iter was reached which means the coef_ did not converge\n",
      "  warnings.warn(\n",
      "/local/JupyterHub/envs/jupyterhub/lib/python3.11/site-packages/sklearn/linear_model/_sag.py:350: ConvergenceWarning: The max_iter was reached which means the coef_ did not converge\n",
      "  warnings.warn(\n",
      "/local/JupyterHub/envs/jupyterhub/lib/python3.11/site-packages/sklearn/linear_model/_sag.py:350: ConvergenceWarning: The max_iter was reached which means the coef_ did not converge\n",
      "  warnings.warn(\n",
      "/local/JupyterHub/envs/jupyterhub/lib/python3.11/site-packages/sklearn/linear_model/_sag.py:350: ConvergenceWarning: The max_iter was reached which means the coef_ did not converge\n",
      "  warnings.warn(\n",
      "/local/JupyterHub/envs/jupyterhub/lib/python3.11/site-packages/sklearn/linear_model/_sag.py:350: ConvergenceWarning: The max_iter was reached which means the coef_ did not converge\n",
      "  warnings.warn(\n",
      "/local/JupyterHub/envs/jupyterhub/lib/python3.11/site-packages/sklearn/linear_model/_sag.py:350: ConvergenceWarning: The max_iter was reached which means the coef_ did not converge\n",
      "  warnings.warn(\n",
      "/local/JupyterHub/envs/jupyterhub/lib/python3.11/site-packages/sklearn/linear_model/_sag.py:350: ConvergenceWarning: The max_iter was reached which means the coef_ did not converge\n",
      "  warnings.warn(\n",
      "/local/JupyterHub/envs/jupyterhub/lib/python3.11/site-packages/sklearn/linear_model/_sag.py:350: ConvergenceWarning: The max_iter was reached which means the coef_ did not converge\n",
      "  warnings.warn(\n",
      "/local/JupyterHub/envs/jupyterhub/lib/python3.11/site-packages/sklearn/linear_model/_sag.py:350: ConvergenceWarning: The max_iter was reached which means the coef_ did not converge\n",
      "  warnings.warn(\n",
      "/local/JupyterHub/envs/jupyterhub/lib/python3.11/site-packages/sklearn/linear_model/_sag.py:350: ConvergenceWarning: The max_iter was reached which means the coef_ did not converge\n",
      "  warnings.warn(\n",
      "/local/JupyterHub/envs/jupyterhub/lib/python3.11/site-packages/sklearn/linear_model/_sag.py:350: ConvergenceWarning: The max_iter was reached which means the coef_ did not converge\n",
      "  warnings.warn(\n",
      "/local/JupyterHub/envs/jupyterhub/lib/python3.11/site-packages/sklearn/linear_model/_sag.py:350: ConvergenceWarning: The max_iter was reached which means the coef_ did not converge\n",
      "  warnings.warn(\n",
      "/local/JupyterHub/envs/jupyterhub/lib/python3.11/site-packages/sklearn/linear_model/_sag.py:350: ConvergenceWarning: The max_iter was reached which means the coef_ did not converge\n",
      "  warnings.warn(\n",
      "/local/JupyterHub/envs/jupyterhub/lib/python3.11/site-packages/sklearn/linear_model/_sag.py:350: ConvergenceWarning: The max_iter was reached which means the coef_ did not converge\n",
      "  warnings.warn(\n",
      "/local/JupyterHub/envs/jupyterhub/lib/python3.11/site-packages/sklearn/linear_model/_sag.py:350: ConvergenceWarning: The max_iter was reached which means the coef_ did not converge\n",
      "  warnings.warn(\n",
      "/local/JupyterHub/envs/jupyterhub/lib/python3.11/site-packages/sklearn/linear_model/_sag.py:350: ConvergenceWarning: The max_iter was reached which means the coef_ did not converge\n",
      "  warnings.warn(\n",
      "/local/JupyterHub/envs/jupyterhub/lib/python3.11/site-packages/sklearn/linear_model/_sag.py:350: ConvergenceWarning: The max_iter was reached which means the coef_ did not converge\n",
      "  warnings.warn(\n",
      "/local/JupyterHub/envs/jupyterhub/lib/python3.11/site-packages/sklearn/linear_model/_sag.py:350: ConvergenceWarning: The max_iter was reached which means the coef_ did not converge\n",
      "  warnings.warn(\n",
      "/local/JupyterHub/envs/jupyterhub/lib/python3.11/site-packages/sklearn/linear_model/_sag.py:350: ConvergenceWarning: The max_iter was reached which means the coef_ did not converge\n",
      "  warnings.warn(\n",
      "/local/JupyterHub/envs/jupyterhub/lib/python3.11/site-packages/sklearn/linear_model/_sag.py:350: ConvergenceWarning: The max_iter was reached which means the coef_ did not converge\n",
      "  warnings.warn(\n",
      "/local/JupyterHub/envs/jupyterhub/lib/python3.11/site-packages/sklearn/linear_model/_sag.py:350: ConvergenceWarning: The max_iter was reached which means the coef_ did not converge\n",
      "  warnings.warn(\n"
     ]
    }
   ],
   "source": [
    "lr = LogisticRegression()\n",
    "grid_search_lr = GridSearchCV(estimator=lr, param_grid=param_grid_lr, cv=5, scoring='accuracy', n_jobs=-1)\n",
    "grid_search_lr.fit(X_train, y_train)\n",
    "best_params_lr = grid_search_lr.best_params_"
   ]
  },
  {
   "cell_type": "code",
   "execution_count": 8,
   "id": "df4ceca9-bf78-4b46-80ae-5dbd4da1afe1",
   "metadata": {},
   "outputs": [],
   "source": [
    "# XGBoost\n",
    "param_grid_xgb = {\n",
    "    'n_estimators': [100, 200, 300],\n",
    "    'max_depth': [3, 4, 5],\n",
    "    'learning_rate': [0.01, 0.1, 0.2]\n",
    "}"
   ]
  },
  {
   "cell_type": "code",
   "execution_count": 9,
   "id": "eb10d200-6984-4646-a3c9-8b28b5268050",
   "metadata": {},
   "outputs": [],
   "source": [
    "xgb = XGBClassifier(use_label_encoder=False, eval_metric='logloss')\n",
    "grid_search_xgb = GridSearchCV(estimator=xgb, param_grid=param_grid_xgb, cv=5, scoring='accuracy', n_jobs=-1)\n",
    "grid_search_xgb.fit(X_train, y_train)\n",
    "best_params_xgb = grid_search_xgb.best_params_"
   ]
  },
  {
   "cell_type": "code",
   "execution_count": 10,
   "id": "68683807-5903-4072-9cfd-544948ad4615",
   "metadata": {},
   "outputs": [],
   "source": [
    "# SVM\n",
    "param_grid_svm = {\n",
    "    'C': [0.1, 1, 10, 100],\n",
    "    'kernel': ['linear', 'rbf'],\n",
    "    'gamma': ['scale', 'auto']\n",
    "}"
   ]
  },
  {
   "cell_type": "code",
   "execution_count": 11,
   "id": "ad019178-7ab6-4856-8099-63a1da0abd7f",
   "metadata": {},
   "outputs": [],
   "source": [
    "svm = SVC()\n",
    "grid_search_svm = GridSearchCV(estimator=svm, param_grid=param_grid_svm, cv=5, scoring='accuracy', n_jobs=-1)\n",
    "grid_search_svm.fit(X_train, y_train)\n",
    "best_params_svm = grid_search_svm.best_params_"
   ]
  },
  {
   "cell_type": "code",
   "execution_count": 12,
   "id": "8806651d-c386-489e-a46f-739808138f66",
   "metadata": {},
   "outputs": [
    {
     "name": "stdout",
     "output_type": "stream",
     "text": [
      "Logistic Regression\n",
      "Best Parameters: {'C': 10, 'max_iter': 100, 'solver': 'liblinear'}\n",
      "Accuracy: 0.88\n",
      "              precision    recall  f1-score   support\n",
      "\n",
      "           0       0.90      0.95      0.93        59\n",
      "           1       0.77      0.62      0.69        16\n",
      "\n",
      "    accuracy                           0.88        75\n",
      "   macro avg       0.84      0.79      0.81        75\n",
      "weighted avg       0.87      0.88      0.88        75\n",
      "\n"
     ]
    }
   ],
   "source": [
    "# Train and evaluate the models with the best parameters\n",
    "# Logistic Regression\n",
    "lr_best = LogisticRegression(**best_params_lr)\n",
    "lr_best.fit(X_train, y_train)\n",
    "y_pred_lr = lr_best.predict(X_test)\n",
    "print(\"Logistic Regression\")\n",
    "print(\"Best Parameters:\", best_params_lr)\n",
    "print(\"Accuracy:\", accuracy_score(y_test, y_pred_lr))\n",
    "print(classification_report(y_test, y_pred_lr))"
   ]
  },
  {
   "cell_type": "code",
   "execution_count": 13,
   "id": "2cfe6786-bb58-4b56-8260-ae92eb4dc0cd",
   "metadata": {},
   "outputs": [
    {
     "name": "stdout",
     "output_type": "stream",
     "text": [
      "\n",
      "XGBoost\n",
      "Best Parameters: {'learning_rate': 0.1, 'max_depth': 3, 'n_estimators': 100}\n",
      "Accuracy: 0.8\n",
      "              precision    recall  f1-score   support\n",
      "\n",
      "           0       0.83      0.93      0.88        59\n",
      "           1       0.56      0.31      0.40        16\n",
      "\n",
      "    accuracy                           0.80        75\n",
      "   macro avg       0.69      0.62      0.64        75\n",
      "weighted avg       0.77      0.80      0.78        75\n",
      "\n"
     ]
    }
   ],
   "source": [
    "# XGBoost\n",
    "xgb_best = XGBClassifier(**best_params_xgb, use_label_encoder=False, eval_metric='logloss')\n",
    "xgb_best.fit(X_train, y_train)\n",
    "y_pred_xgb = xgb_best.predict(X_test)\n",
    "print(\"\\nXGBoost\")\n",
    "print(\"Best Parameters:\", best_params_xgb)\n",
    "print(\"Accuracy:\", accuracy_score(y_test, y_pred_xgb))\n",
    "print(classification_report(y_test, y_pred_xgb))"
   ]
  },
  {
   "cell_type": "code",
   "execution_count": 14,
   "id": "ba56df9f-b543-41be-a0de-2b876f15e82e",
   "metadata": {},
   "outputs": [
    {
     "name": "stdout",
     "output_type": "stream",
     "text": [
      "\n",
      "SVM\n",
      "Best Parameters: {'C': 0.1, 'gamma': 'scale', 'kernel': 'linear'}\n",
      "Accuracy: 0.8533333333333334\n",
      "              precision    recall  f1-score   support\n",
      "\n",
      "           0       0.89      0.93      0.91        59\n",
      "           1       0.69      0.56      0.62        16\n",
      "\n",
      "    accuracy                           0.85        75\n",
      "   macro avg       0.79      0.75      0.76        75\n",
      "weighted avg       0.85      0.85      0.85        75\n",
      "\n"
     ]
    }
   ],
   "source": [
    "# SVM\n",
    "svm_best = SVC(**best_params_svm)\n",
    "svm_best.fit(X_train, y_train)\n",
    "y_pred_svm = svm_best.predict(X_test)\n",
    "print(\"\\nSVM\")\n",
    "print(\"Best Parameters:\", best_params_svm)\n",
    "print(\"Accuracy:\", accuracy_score(y_test, y_pred_svm))\n",
    "print(classification_report(y_test, y_pred_svm))"
   ]
  },
  {
   "cell_type": "code",
   "execution_count": null,
   "id": "46134b50-7a62-4fdd-8ab2-30350f8d7733",
   "metadata": {},
   "outputs": [],
   "source": []
  }
 ],
 "metadata": {
  "kernelspec": {
   "display_name": "Python 3 (ipykernel)",
   "language": "python",
   "name": "python3"
  },
  "language_info": {
   "codemirror_mode": {
    "name": "ipython",
    "version": 3
   },
   "file_extension": ".py",
   "mimetype": "text/x-python",
   "name": "python",
   "nbconvert_exporter": "python",
   "pygments_lexer": "ipython3",
   "version": "3.11.9"
  }
 },
 "nbformat": 4,
 "nbformat_minor": 5
}
