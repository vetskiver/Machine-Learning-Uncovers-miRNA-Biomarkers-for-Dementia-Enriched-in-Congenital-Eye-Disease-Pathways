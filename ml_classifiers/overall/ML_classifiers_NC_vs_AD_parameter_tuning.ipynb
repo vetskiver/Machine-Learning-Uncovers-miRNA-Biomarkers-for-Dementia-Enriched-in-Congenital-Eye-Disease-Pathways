{
 "cells": [
  {
   "cell_type": "markdown",
   "id": "93359cb8-a7d6-4b36-985f-2230f9d5fbe6",
   "metadata": {},
   "source": [
    "### Import Libraries and Load Datasets\n",
    "\n",
    "This section imports essential libraries for data manipulation, model training, and evaluation.\n",
    "\n",
    "- **pandas**: Used for data manipulation and reading CSV files.\n",
    "- **sklearn.linear_model.LogisticRegression**: Implements logistic regression.\n",
    "- **sklearn.model_selection.GridSearchCV**: Used for hyperparameter tuning.\n",
    "- **sklearn.metrics**: Provides metrics to evaluate model performance.\n",
    "- **xgboost.XGBClassifier**: Implements the XGBoost algorithm.\n",
    "- **sklearn.svm.SVC**: Implements Support Vector Classification.\n",
    "\n",
    "### Load Datasets\n",
    "\n",
    "Reads the training and test datasets from specified file paths into pandas DataFrames."
   ]
  },
  {
   "cell_type": "code",
   "execution_count": null,
   "id": "00e4e651-4a96-4ff6-b007-7c2deebb3eb8",
   "metadata": {},
   "outputs": [],
   "source": [
    "import pandas as pd\n",
    "from sklearn.linear_model import LogisticRegression\n",
    "from sklearn.model_selection import GridSearchCV, train_test_split\n",
    "from sklearn.metrics import accuracy_score, classification_report\n",
    "from xgboost import XGBClassifier\n",
    "from sklearn.svm import SVC\n",
    "\n",
    "# Paths to the datasets\n",
    "train_dataset = '/home/aghasemi/CompBio481/ML_classifiers/datasets/NC_vs_AD_train.csv'\n",
    "test_dataset = '/home/aghasemi/CompBio481/ML_classifiers/datasets/NC_vs_AD_test.csv'\n",
    "\n",
    "train_df = pd.read_csv(train_dataset)\n",
    "test_df = pd.read_csv(test_dataset)"
   ]
  },
  {
   "cell_type": "markdown",
   "id": "05360b39-2125-4bbd-b073-9a8277e7bf76",
   "metadata": {},
   "source": [
    "### Prepare Data\n",
    "\n",
    "**Separate Features and Target Variable for Training Data:** \n",
    "Removes the columns `ID_1` and `Diagnosis` from the training DataFrame to get the feature set `X_train` and extracts the target variable `y_train`.\n",
    "\n",
    "**Separate Features and Target Variable for Test Data:** \n",
    "Similarly, prepares the test data by separating features and the target variable."
   ]
  },
  {
   "cell_type": "code",
   "execution_count": null,
   "id": "6316d540-6445-4ca2-a1e7-f07d9e5b5d5a",
   "metadata": {},
   "outputs": [],
   "source": [
    "# Separate features and target variable for training data\n",
    "X_train = train_df.drop(columns=['ID_1', 'Diagnosis'])\n",
    "y_train = train_df['Diagnosis']\n",
    "\n",
    "# Separate features and target variable for test data\n",
    "X_test = test_df.drop(columns=['ID_1', 'Diagnosis'])\n",
    "y_test = test_df['Diagnosis']"
   ]
  },
  {
   "cell_type": "markdown",
   "id": "cde4dc20-3acb-4058-a1d3-52cba33800fb",
   "metadata": {},
   "source": [
    "### Hyperparameter Tuning for Logistic Regression\n",
    "\n",
    "**Define Parameter Grid:** \n",
    "Specifies the range of hyperparameters (`C`, `solver`, and `max_iter`) to test for logistic regression.\n",
    "\n",
    "**Grid Search:** \n",
    "Uses `GridSearchCV` to perform an exhaustive search over the specified parameter grid with 5-fold cross-validation.\n",
    "\n",
    "**Fit and Retrieve Best Parameters:** \n",
    "Fits the model with all combinations of parameters and retrieves the best parameters based on accuracy."
   ]
  },
  {
   "cell_type": "code",
   "execution_count": null,
   "id": "3bd195f3-6ba0-4d29-9273-c6c7726291ec",
   "metadata": {},
   "outputs": [],
   "source": [
    "# Logistic Regression\n",
    "param_grid_lr = {\n",
    "    'C': [0.1, 1, 10, 100],\n",
    "    'solver': ['liblinear', 'saga'],\n",
    "    'max_iter': [100, 200, 500]\n",
    "}\n",
    "\n",
    "lr = LogisticRegression()\n",
    "grid_search_lr = GridSearchCV(estimator=lr, param_grid=param_grid_lr, cv=5, scoring='accuracy', n_jobs=-1)\n",
    "grid_search_lr.fit(X_train, y_train)\n",
    "best_params_lr = grid_search_lr.best_params_"
   ]
  },
  {
   "cell_type": "markdown",
   "id": "23ca13a9-338a-461b-b3db-bec10961c044",
   "metadata": {},
   "source": [
    "### Hyperparameter Tuning for XGBoost\n",
    "**Define Parameter Grid:** \n",
    "Specifies the range of hyperparameters (`n_estimators`, `max_depth`, `learning_rate`) to test for the XGBoost classifier.\n",
    "\n",
    "**Grid Search:** \n",
    "Uses `GridSearchCV` to find the best parameters with 5-fold cross-validation.\n",
    "\n",
    "**Fit and Retrieve Best Parameters:** \n",
    "Fits the model with different parameter combinations and selects the best ones based on accuracy."
   ]
  },
  {
   "cell_type": "code",
   "execution_count": null,
   "id": "baad4548-be52-4c43-8c56-6be91888d9cd",
   "metadata": {},
   "outputs": [],
   "source": [
    "# XGBoost\n",
    "param_grid_xgb = {\n",
    "    'n_estimators': [100, 200, 300],\n",
    "    'max_depth': [3, 4, 5],\n",
    "    'learning_rate': [0.01, 0.1, 0.2]\n",
    "}\n",
    "\n",
    "xgb = XGBClassifier(use_label_encoder=False, eval_metric='logloss')\n",
    "grid_search_xgb = GridSearchCV(estimator=xgb, param_grid=param_grid_xgb, cv=5, scoring='accuracy', n_jobs=-1)\n",
    "grid_search_xgb.fit(X_train, y_train)\n",
    "best_params_xgb = grid_search_xgb.best_params_"
   ]
  },
  {
   "cell_type": "markdown",
   "id": "5592836d-6e6e-4345-a178-3af354d80116",
   "metadata": {},
   "source": [
    "### Hyperparameter Tuning for SVM\n",
    "\n",
    "**Define Parameter Grid:** \n",
    "Specifies the hyperparameters (`C`, `kernel`, `gamma`) to tune for Support Vector Machine.\n",
    "\n",
    "**Grid Search:** \n",
    "Performs an exhaustive search with 5-fold cross-validation to find the best parameter values.\n",
    "\n",
    "**Fit and Retrieve Best Parameters:** \n",
    "Fits the model with various parameter settings and retrieves the best combination based on accuracy.\n"
   ]
  },
  {
   "cell_type": "code",
   "execution_count": null,
   "id": "7380484b-16d0-47d8-afad-3b474e71668e",
   "metadata": {},
   "outputs": [],
   "source": [
    "# SVM\n",
    "param_grid_svm = {\n",
    "    'C': [0.1, 1, 10, 100],\n",
    "    'kernel': ['linear', 'rbf'],\n",
    "    'gamma': ['scale', 'auto']\n",
    "}\n",
    "\n",
    "svm = SVC()\n",
    "grid_search_svm = GridSearchCV(estimator=svm, param_grid=param_grid_svm, cv=5, scoring='accuracy', n_jobs=-1)\n",
    "grid_search_svm.fit(X_train, y_train)\n",
    "best_params_svm = grid_search_svm.best_params_"
   ]
  },
  {
   "cell_type": "markdown",
   "id": "d95f3073-f3cf-481b-83ab-425014f5b895",
   "metadata": {},
   "source": [
    "**Train and Evaluate Logistic Regression**"
   ]
  },
  {
   "cell_type": "code",
   "execution_count": 12,
   "id": "8806651d-c386-489e-a46f-739808138f66",
   "metadata": {},
   "outputs": [
    {
     "name": "stdout",
     "output_type": "stream",
     "text": [
      "Logistic Regression\n",
      "Best Parameters: {'C': 0.1, 'max_iter': 100, 'solver': 'liblinear'}\n",
      "Accuracy: 0.8435114503816794\n",
      "              precision    recall  f1-score   support\n",
      "\n",
      "           0       0.69      0.58      0.63        60\n",
      "           1       0.88      0.92      0.90       202\n",
      "\n",
      "    accuracy                           0.84       262\n",
      "   macro avg       0.78      0.75      0.77       262\n",
      "weighted avg       0.84      0.84      0.84       262\n",
      "\n"
     ]
    }
   ],
   "source": [
    "# Train and evaluate the models with the best parameters\n",
    "# Logistic Regression\n",
    "lr_best = LogisticRegression(**best_params_lr)\n",
    "lr_best.fit(X_train, y_train)\n",
    "y_pred_lr = lr_best.predict(X_test)\n",
    "print(\"Logistic Regression\")\n",
    "print(\"Best Parameters:\", best_params_lr)\n",
    "print(\"Accuracy:\", accuracy_score(y_test, y_pred_lr))\n",
    "print(classification_report(y_test, y_pred_lr))"
   ]
  },
  {
   "cell_type": "markdown",
   "id": "fd16ce6e-a479-471e-bdf1-c2024038cc21",
   "metadata": {},
   "source": [
    "**Train and Evaluate XGBoost**"
   ]
  },
  {
   "cell_type": "code",
   "execution_count": 13,
   "id": "2cfe6786-bb58-4b56-8260-ae92eb4dc0cd",
   "metadata": {},
   "outputs": [
    {
     "name": "stdout",
     "output_type": "stream",
     "text": [
      "\n",
      "XGBoost\n",
      "Best Parameters: {'learning_rate': 0.1, 'max_depth': 3, 'n_estimators': 300}\n",
      "Accuracy: 0.8778625954198473\n",
      "              precision    recall  f1-score   support\n",
      "\n",
      "           0       0.80      0.62      0.70        60\n",
      "           1       0.89      0.96      0.92       202\n",
      "\n",
      "    accuracy                           0.88       262\n",
      "   macro avg       0.85      0.79      0.81       262\n",
      "weighted avg       0.87      0.88      0.87       262\n",
      "\n"
     ]
    }
   ],
   "source": [
    "# XGBoost\n",
    "xgb_best = XGBClassifier(**best_params_xgb, use_label_encoder=False, eval_metric='logloss')\n",
    "xgb_best.fit(X_train, y_train)\n",
    "y_pred_xgb = xgb_best.predict(X_test)\n",
    "print(\"\\nXGBoost\")\n",
    "print(\"Best Parameters:\", best_params_xgb)\n",
    "print(\"Accuracy:\", accuracy_score(y_test, y_pred_xgb))\n",
    "print(classification_report(y_test, y_pred_xgb))"
   ]
  },
  {
   "cell_type": "markdown",
   "id": "e4b06ea2-78c5-4524-8569-23900578311a",
   "metadata": {},
   "source": [
    "**Train and Evaluate SVM**"
   ]
  },
  {
   "cell_type": "code",
   "execution_count": 14,
   "id": "ba56df9f-b543-41be-a0de-2b876f15e82e",
   "metadata": {},
   "outputs": [
    {
     "name": "stdout",
     "output_type": "stream",
     "text": [
      "\n",
      "SVM\n",
      "Best Parameters: {'C': 10, 'gamma': 'auto', 'kernel': 'rbf'}\n",
      "Accuracy: 0.8473282442748091\n",
      "              precision    recall  f1-score   support\n",
      "\n",
      "           0       0.69      0.62      0.65        60\n",
      "           1       0.89      0.92      0.90       202\n",
      "\n",
      "    accuracy                           0.85       262\n",
      "   macro avg       0.79      0.77      0.78       262\n",
      "weighted avg       0.84      0.85      0.84       262\n",
      "\n"
     ]
    }
   ],
   "source": [
    "# SVM\n",
    "svm_best = SVC(**best_params_svm)\n",
    "svm_best.fit(X_train, y_train)\n",
    "y_pred_svm = svm_best.predict(X_test)\n",
    "print(\"\\nSVM\")\n",
    "print(\"Best Parameters:\", best_params_svm)\n",
    "print(\"Accuracy:\", accuracy_score(y_test, y_pred_svm))\n",
    "print(classification_report(y_test, y_pred_svm))"
   ]
  }
 ],
 "metadata": {
  "kernelspec": {
   "display_name": "Python 3 (ipykernel)",
   "language": "python",
   "name": "python3"
  },
  "language_info": {
   "codemirror_mode": {
    "name": "ipython",
    "version": 3
   },
   "file_extension": ".py",
   "mimetype": "text/x-python",
   "name": "python",
   "nbconvert_exporter": "python",
   "pygments_lexer": "ipython3",
   "version": "3.11.9"
  }
 },
 "nbformat": 4,
 "nbformat_minor": 5
}
