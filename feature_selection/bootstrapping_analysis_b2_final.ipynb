{
 "cells": [
  {
   "cell_type": "markdown",
   "id": "1be323b0-2686-41ae-b366-6f81d8312f78",
   "metadata": {},
   "source": [
    "## Importing Required Libraries\n",
    "\n",
    "In this section, we import the necessary libraries:\n",
    "- `os`: This library allows us to interact with the operating system, particularly for file and directory manipulation.\n",
    "- `pandas as pd`: The `pandas` library is used for data manipulation and analysis, providing data structures like DataFrames for handling structured data."
   ]
  },
  {
   "cell_type": "code",
   "execution_count": 5,
   "id": "6482882e-c021-44df-aaf1-03d571eb8355",
   "metadata": {},
   "outputs": [],
   "source": [
    "import os\n",
    "import pandas as pd"
   ]
  },
  {
   "cell_type": "markdown",
   "id": "d70bfe38-76f9-4b81-ba51-e152a00c1734",
   "metadata": {},
   "source": [
    "## Defining Input Directories\n",
    "\n",
    "Here, we define a list of input directories. Each directory corresponds to a dataset used for different classification tasks:\n",
    "- `ad_vs_nc_train`: Alzheimer's Disease vs. Normal Controls\n",
    "- `dlb_vs_nc_train`: Dementia with Lewy Bodies vs. Normal Controls\n",
    "- `mci_vs_nc_train`: Mild Cognitive Impairment vs. Normal Controls\n",
    "- `nph_vs_nc_train`: Normal Pressure Hydrocephalus vs. Normal Controls\n",
    "- `vad_vs_nc_train`: Vascular Dementia vs. Normal Controls"
   ]
  },
  {
   "cell_type": "code",
   "execution_count": 6,
   "id": "cd5f5229-d70b-4e41-abf5-7f381314211f",
   "metadata": {},
   "outputs": [],
   "source": [
    "input_directories = [\n",
    "    \"/home/aghasemi/CompBio481/feature_selection/feat_select_res_branch2_overall/ad_vs_nc_train\",\n",
    "    \"/home/aghasemi/CompBio481/feature_selection/feat_select_res_branch2_overall/dlb_vs_nc_train\",\n",
    "    \"/home/aghasemi/CompBio481/feature_selection/feat_select_res_branch2_overall/mci_vs_nc_train\",\n",
    "    \"/home/aghasemi/CompBio481/feature_selection/feat_select_res_branch2_overall/nph_vs_nc_train\",\n",
    "    \"/home/aghasemi/CompBio481/feature_selection/feat_select_res_branch2_overall/vad_vs_nc_train\",\n",
    "]"
   ]
  },
  {
   "cell_type": "markdown",
   "id": "89ceee96-c80c-4d22-a72f-046cfa36c44b",
   "metadata": {},
   "source": [
    "## Filtering Significant Features from Welch ANOVA Results\n",
    "\n",
    "### Function: `filter_significant_features(directory)`\n",
    "\n",
    "This function filters significant features based on Welch ANOVA results:\n",
    "\n",
    "1. **Listing Relevant Files**:\n",
    "    - The function lists only CSV files in the specified directory that contain `_welch` in their filenames.\n",
    "\n",
    "2. **File Count Validation**:\n",
    "    - It checks if there are exactly three Welch ANOVA CSV files. If not, it raises a `ValueError`.\n",
    "\n",
    "3. **Filtering Process**:\n",
    "    - For each file, the function reads the CSV data.\n",
    "    - It calculates the total number of features before filtering.\n",
    "    - It filters features with a `P-Value` less than 0.03 and adds them to a set.\n",
    "\n",
    "4. **Finding Common Features**:\n",
    "    - It computes the intersection of significant features across all three files.\n",
    "\n",
    "5. **Return Values**:\n",
    "    - The function returns the common significant features and the total number of features before filtering."
   ]
  },
  {
   "cell_type": "code",
   "execution_count": null,
   "id": "5763f38e-d7d0-4e6d-ad6a-294c854275ea",
   "metadata": {},
   "outputs": [],
   "source": [
    "def filter_significant_features(directory):\n",
    "    # List only CSV files containing '_welch' in the filename\n",
    "    files = [os.path.join(directory, f) for f in os.listdir(directory) if f.endswith('.csv') and '_welch' in f]\n",
    "    \n",
    "    if len(files) != 3:\n",
    "        raise ValueError(\"Each directory must contain exactly three Welch ANOVA CSV files.\")\n",
    "\n",
    "    significant_features_sets = []\n",
    "    total_features = 0\n",
    "    \n",
    "    for file in files:\n",
    "        data = pd.read_csv(file)\n",
    "        total_features += len(data)  # Sum up all features before filtering\n",
    "        significant_features = data[data['P-Value'] < 0.03]['Feature']\n",
    "        significant_features_sets.append(set(significant_features))\n",
    "\n",
    "    # Intersection of significant features across all files\n",
    "    common_features = set.intersection(*significant_features_sets)\n",
    "    return common_features, total_features"
   ]
  },
  {
   "cell_type": "markdown",
   "id": "912a2586-d34b-4cc8-bdac-0d9ff736c675",
   "metadata": {},
   "source": [
    "## Processing Welch ANOVA Results for All Datasets\n",
    "\n",
    "### Dictionaries:\n",
    "- `welch_anova_common_features_dict`: Stores common significant features for each dataset.\n",
    "- `total_initial_features_dict`: Stores the total initial number of features for each dataset.\n",
    "\n",
    "### Loop Through Directories:\n",
    "- For each directory in `input_directories`, the script:\n",
    "    - Extracts the dataset type from the directory name.\n",
    "    - Tries to filter significant features using `filter_significant_features(directory)`.\n",
    "    - Updates the dictionaries with the results.\n",
    "    - Prints the number of initially filtered features and the remaining significant features.\n",
    "- If there is an error (e.g., incorrect number of files), it catches the `ValueError` and prints an error message."
   ]
  },
  {
   "cell_type": "code",
   "execution_count": null,
   "id": "26e20b31-7166-4e7f-aff2-a1c33206ef2e",
   "metadata": {},
   "outputs": [],
   "source": [
    "welch_anova_common_features_dict = {}\n",
    "total_initial_features_dict = {}\n",
    "\n",
    "input_directories = [\n",
    "    \"/home/aghasemi/CompBio481/feature_selection/feat_select_res_branch2_overall/ad_vs_nc_train\",\n",
    "    \"/home/aghasemi/CompBio481/feature_selection/feat_select_res_branch2_overall/dlb_vs_nc_train\",\n",
    "    \"/home/aghasemi/CompBio481/feature_selection/feat_select_res_branch2_overall/mci_vs_nc_train\",\n",
    "    \"/home/aghasemi/CompBio481/feature_selection/feat_select_res_branch2_overall/nph_vs_nc_train\",\n",
    "    \"/home/aghasemi/CompBio481/feature_selection/feat_select_res_branch2_overall/vad_vs_nc_train\",\n",
    "]\n",
    "\n",
    "for directory in input_directories:\n",
    "    dataset_type = directory.split('/')[-1]\n",
    "    try:\n",
    "        common_features, total_features = filter_significant_features(directory)\n",
    "        welch_anova_common_features_dict[dataset_type] = common_features\n",
    "        total_initial_features_dict[dataset_type] = total_features\n",
    "        filtered_out_features_count = total_features - len(common_features)\n",
    "        print(f\"{dataset_type}: Initially {total_features} features, {filtered_out_features_count} features filtered out, leaving {len(common_features)} significant features.\")\n",
    "    except ValueError as e:\n",
    "        print(f\"Error for {dataset_type}: {e}\")"
   ]
  },
  {
   "cell_type": "markdown",
   "id": "33ee7bcc-e0e4-4d68-9387-bf14d62cba4d",
   "metadata": {},
   "source": [
    "## Filtering Top Features from ReliefF Results\n",
    "\n",
    "### Function: `filter_top_relieff_features(directory)`\n",
    "\n",
    "This function filters the top features based on ReliefF scores:\n",
    "\n",
    "1. **Listing Relevant Files**:\n",
    "    - The function lists only CSV files in the specified directory that contain `_relieff` in their filenames.\n",
    "\n",
    "2. **File Count Validation**:\n",
    "    - It checks if there are exactly three ReliefF CSV files. If not, it raises a `ValueError`.\n",
    "\n",
    "3. **Filtering Process**:\n",
    "    - For each file, the function reads the CSV data.\n",
    "    - It calculates the total number of features before filtering.\n",
    "    - It selects the top 5% of features based on the `ReliefF Score` and adds them to a set.\n",
    "\n",
    "4. **Finding Common Features**:\n",
    "    - It computes the intersection of top features across all three files.\n",
    "\n",
    "5. **Return Values**:\n",
    "    - The function returns the common top features and the total number of features before filtering."
   ]
  },
  {
   "cell_type": "code",
   "execution_count": 11,
   "id": "07cdd66e-8e91-4709-9c55-29e93265ac1e",
   "metadata": {},
   "outputs": [],
   "source": [
    "import os\n",
    "import pandas as pd"
   ]
  },
  {
   "cell_type": "code",
   "execution_count": 12,
   "id": "7287122f-0d23-42c7-aa0c-136ced7bf176",
   "metadata": {},
   "outputs": [],
   "source": [
    "input_directories = [\n",
    "    \"/home/aghasemi/CompBio481/feature_selection/feat_select_res_branch2_overall/ad_vs_nc_train\",\n",
    "    \"/home/aghasemi/CompBio481/feature_selection/feat_select_res_branch2_overall/dlb_vs_nc_train\",\n",
    "    \"/home/aghasemi/CompBio481/feature_selection/feat_select_res_branch2_overall/mci_vs_nc_train\",\n",
    "    \"/home/aghasemi/CompBio481/feature_selection/feat_select_res_branch2_overall/nph_vs_nc_train\",\n",
    "    \"/home/aghasemi/CompBio481/feature_selection/feat_select_res_branch2_overall/vad_vs_nc_train\",\n",
    "]"
   ]
  },
  {
   "cell_type": "code",
   "execution_count": null,
   "id": "f8b2b90d-6de6-4884-8c8a-3c8f1008af9a",
   "metadata": {},
   "outputs": [],
   "source": [
    "def filter_top_relieff_features(directory):\n",
    "    # List only CSV files containing '_relieff' in the filename\n",
    "    files = [os.path.join(directory, f) for f in os.listdir(directory) if f.endswith('.csv') and '_relieff' in f]\n",
    "    \n",
    "    if len(files) != 3:\n",
    "        raise ValueError(\"Each directory must contain exactly three ReliefF CSV files.\")\n",
    "\n",
    "    top_features_sets = []\n",
    "    total_features = 0\n",
    "    \n",
    "    for file in files:\n",
    "        data = pd.read_csv(file)\n",
    "        total_features += len(data)  # Sum up all features before filtering\n",
    "        top_count = int(len(data) * 0.05)  # Top 10%\n",
    "        top_features = set(data.nlargest(top_count, 'ReliefF Score')['Feature'])\n",
    "        top_features_sets.append(top_features)\n",
    "\n",
    "    # Intersection of top features across all files\n",
    "    common_features = set.intersection(*top_features_sets)\n",
    "    return common_features, total_features"
   ]
  },
  {
   "cell_type": "markdown",
   "id": "459e9391-b41d-4cd6-a96f-0c2eb86c7929",
   "metadata": {},
   "source": [
    "## Processing ReliefF Results for All Datasets\n",
    "\n",
    "### Dictionaries:\n",
    "- `relieff_common_features_dict`: Stores common top features for each dataset.\n",
    "- `total_initial_features_dict`: Stores the total initial number of features for each dataset.\n",
    "\n",
    "### Loop Through Directories:\n",
    "- For each directory in `input_directories`, the script:\n",
    "    - Extracts the dataset type from the directory name.\n",
    "    - Tries to filter top features using `filter_top_relieff_features(directory)`.\n",
    "    - Updates the dictionaries with the results.\n",
    "    - Prints the number of initially filtered features and the remaining top features.\n",
    "- If there is an error (e.g., incorrect number of files), it catches the `ValueError` and prints an error message."
   ]
  },
  {
   "cell_type": "code",
   "execution_count": null,
   "id": "3c701692-0aff-4d2b-84e4-ea0fe26c3473",
   "metadata": {},
   "outputs": [],
   "source": [
    "relieff_common_features_dict = {}\n",
    "total_initial_features_dict = {}\n",
    "\n",
    "input_directories = [\n",
    "    \"/home/aghasemi/CompBio481/feature_selection/feat_select_res_branch2_overall/ad_vs_nc_train\",\n",
    "    \"/home/aghasemi/CompBio481/feature_selection/feat_select_res_branch2_overall/dlb_vs_nc_train\",\n",
    "    \"/home/aghasemi/CompBio481/feature_selection/feat_select_res_branch2_overall/mci_vs_nc_train\",\n",
    "    \"/home/aghasemi/CompBio481/feature_selection/feat_select_res_branch2_overall/nph_vs_nc_train\",\n",
    "    \"/home/aghasemi/CompBio481/feature_selection/feat_select_res_branch2_overall/vad_vs_nc_train\",\n",
    "]\n",
    "\n",
    "for directory in input_directories:\n",
    "    dataset_type = directory.split('/')[-1]\n",
    "    try:\n",
    "        common_features, total_features = filter_top_relieff_features(directory)\n",
    "        relieff_common_features_dict[dataset_type] = common_features\n",
    "        total_initial_features_dict[dataset_type] = total_features\n",
    "        filtered_out_features_count = total_features - len(common_features)\n",
    "        print(f\"{dataset_type}: Initially {total_features} features, {filtered_out_features_count} features filtered out, leaving {len(common_features)} significant features.\")\n",
    "    except ValueError as e:\n",
    "        print(f\"Error for {dataset_type}: {e}\")"
   ]
  },
  {
   "cell_type": "markdown",
   "id": "4e23408f-60b8-432e-aea9-fe92e06324dc",
   "metadata": {},
   "source": [
    "Combine Directories"
   ]
  },
  {
   "cell_type": "code",
   "execution_count": 14,
   "id": "75202bf0-9b58-4212-b349-146da2e968fb",
   "metadata": {},
   "outputs": [
    {
     "name": "stdout",
     "output_type": "stream",
     "text": [
      "ad_vs_nc_train: 624 significant features combined\n",
      "dlb_vs_nc_train: 364 significant features combined\n",
      "mci_vs_nc_train: 42 significant features combined\n",
      "nph_vs_nc_train: 247 significant features combined\n",
      "vad_vs_nc_train: 531 significant features combined\n"
     ]
    }
   ],
   "source": [
    "def combine_feature_dictionaries(dict1, dict2):\n",
    "    # Combine two dictionaries where values are sets of features\n",
    "    combined_dict = {}\n",
    "    for key in dict1:\n",
    "        if key in dict2:\n",
    "            combined_dict[key] = dict1[key].union(dict2[key])\n",
    "        else:\n",
    "            combined_dict[key] = dict1[key]  # Only dict1 has this key\n",
    "    for key in dict2:\n",
    "        if key not in dict1:\n",
    "            combined_dict[key] = dict2[key]  # Only dict2 has this key\n",
    "    return combined_dict\n",
    "\n",
    "# Assuming welch_anova_common_features_dict and relieff_common_features_dict are already defined\n",
    "combined_features_dict = combine_feature_dictionaries(welch_anova_common_features_dict, relieff_common_features_dict)\n",
    "\n",
    "# Print the combined results for each dataset condition\n",
    "for condition, features in combined_features_dict.items():\n",
    "    print(f\"{condition}: {len(features)} significant features combined\")"
   ]
  },
  {
   "cell_type": "markdown",
   "id": "cbc0b295-d366-44f9-8277-f21f8f52c8c9",
   "metadata": {},
   "source": [
    "**Filter Datasets**"
   ]
  },
  {
   "cell_type": "code",
   "execution_count": 15,
   "id": "87ca1a42-9403-4b1c-9d5f-481fd6ae6048",
   "metadata": {},
   "outputs": [],
   "source": [
    "import os \n",
    "import pandas as pd"
   ]
  },
  {
   "cell_type": "code",
   "execution_count": 21,
   "id": "7cf1edc7-ece4-4791-88c6-de3c53967e0e",
   "metadata": {},
   "outputs": [],
   "source": [
    "datasets = [\n",
    "    \"/home/aghasemi/CompBio481/datasets/processed_datasets/usable_datasets_branch2/ad_vs_nc_train.csv\",\n",
    "    \"/home/aghasemi/CompBio481/datasets/processed_datasets/usable_datasets_branch2/dlb_vs_nc_train.csv\",\n",
    "    \"/home/aghasemi/CompBio481/datasets/processed_datasets/usable_datasets_branch2/mci_vs_nc_train.csv\",\n",
    "    \"/home/aghasemi/CompBio481/datasets/processed_datasets/usable_datasets_branch2/nph_vs_nc_train.csv\",\n",
    "    \"/home/aghasemi/CompBio481/datasets/processed_datasets/usable_datasets_branch2/vad_vs_nc_train.csv\",\n",
    "]"
   ]
  },
  {
   "cell_type": "code",
   "execution_count": 17,
   "id": "33539d90-e80b-4667-ad64-6ac9cf8623b1",
   "metadata": {},
   "outputs": [],
   "source": [
    "def filter_datasets(datasets, features_dict, output_directory):\n",
    "    # Ensure the output directory exists\n",
    "    os.makedirs(output_directory, exist_ok=True)\n",
    "\n",
    "    # Fixed columns to retain in each dataset\n",
    "    fixed_columns = ['ID_1', 'Diagnosis', 'Age', 'Sex', 'APOE4']\n",
    "\n",
    "    for dataset_path in datasets:\n",
    "        # Extract the condition name from the file path\n",
    "        condition = os.path.basename(dataset_path).replace('.csv', '')\n",
    "        if condition in features_dict:\n",
    "            # Load the dataset\n",
    "            df = pd.read_csv(dataset_path)\n",
    "\n",
    "            # Combine significant features with fixed columns\n",
    "            significant_features = features_dict[condition]\n",
    "            columns_to_keep = fixed_columns + list(significant_features)\n",
    "\n",
    "            # Filter the DataFrame to include only the required columns\n",
    "            filtered_df = df.loc[:, df.columns.isin(columns_to_keep)]\n",
    "\n",
    "            # Reorder columns to ensure ID_1 is the first column\n",
    "            columns_order = ['ID_1'] + [col for col in filtered_df.columns if col != 'ID_1']\n",
    "            filtered_df = filtered_df[columns_order]\n",
    "\n",
    "            # Prepare output file path\n",
    "            output_file_path = os.path.join(output_directory, os.path.basename(dataset_path))\n",
    "\n",
    "            # Save the filtered DataFrame\n",
    "            filtered_df.to_csv(output_file_path, index=False)\n",
    "\n",
    "            print(f\"Filtered dataset saved to {output_file_path}\")\n",
    "        else:\n",
    "            print(f\"No features found for {condition}, skipping...\")"
   ]
  },
  {
   "cell_type": "code",
   "execution_count": 18,
   "id": "8a3235e5-48d8-4c5c-81c3-f9ec60568412",
   "metadata": {},
   "outputs": [],
   "source": [
    "# Define the output directory\n",
    "output_directory = \"/home/aghasemi/CompBio481/datasets/filtered_datasets_after_rank_feat_select_branch2_overall\""
   ]
  },
  {
   "cell_type": "code",
   "execution_count": 20,
   "id": "710d2e37-be01-48d2-95ad-04aa9758f08b",
   "metadata": {},
   "outputs": [
    {
     "name": "stdout",
     "output_type": "stream",
     "text": [
      "Filtered dataset saved to /home/aghasemi/CompBio481/datasets/filtered_datasets_after_rank_feat_select_branch2_overall/ad_vs_nc_train.csv\n",
      "Filtered dataset saved to /home/aghasemi/CompBio481/datasets/filtered_datasets_after_rank_feat_select_branch2_overall/dlb_vs_nc_train.csv\n",
      "Filtered dataset saved to /home/aghasemi/CompBio481/datasets/filtered_datasets_after_rank_feat_select_branch2_overall/mci_vs_nc_train.csv\n",
      "Filtered dataset saved to /home/aghasemi/CompBio481/datasets/filtered_datasets_after_rank_feat_select_branch2_overall/nph_vs_nc_train.csv\n",
      "Filtered dataset saved to /home/aghasemi/CompBio481/datasets/filtered_datasets_after_rank_feat_select_branch2_overall/vad_vs_nc_train.csv\n"
     ]
    }
   ],
   "source": [
    "# Call the function\n",
    "filter_datasets(datasets, combined_features_dict, output_directory)"
   ]
  },
  {
   "cell_type": "markdown",
   "id": "688a76b0-ef07-4df7-b20e-7533f7daeb46",
   "metadata": {},
   "source": [
    "**Filter Test Datasets**"
   ]
  },
  {
   "cell_type": "code",
   "execution_count": 23,
   "id": "6008ec48-4eb6-46ac-9d31-2962c93ba9c8",
   "metadata": {},
   "outputs": [],
   "source": [
    "test_datasets = [\n",
    "    \"/home/aghasemi/CompBio481/datasets/processed_datasets/usable_datasets_branch2/ad_vs_nc_test.csv\",\n",
    "    \"/home/aghasemi/CompBio481/datasets/processed_datasets/usable_datasets_branch2/dlb_vs_nc_test.csv\",\n",
    "    \"/home/aghasemi/CompBio481/datasets/processed_datasets/usable_datasets_branch2/mci_vs_nc_test.csv\",\n",
    "    \"/home/aghasemi/CompBio481/datasets/processed_datasets/usable_datasets_branch2/nph_vs_nc_test.csv\",\n",
    "    \"/home/aghasemi/CompBio481/datasets/processed_datasets/usable_datasets_branch2/vad_vs_nc_test.csv\",\n",
    "]\n",
    "\n",
    "train_datasets = [\n",
    "    \"/home/aghasemi/CompBio481/datasets/processed_datasets/usable_datasets_branch2/ad_vs_nc_train.csv\",\n",
    "    \"/home/aghasemi/CompBio481/datasets/processed_datasets/usable_datasets_branch2/dlb_vs_nc_train.csv\",\n",
    "    \"/home/aghasemi/CompBio481/datasets/processed_datasets/usable_datasets_branch2/mci_vs_nc_train.csv\",\n",
    "    \"/home/aghasemi/CompBio481/datasets/processed_datasets/usable_datasets_branch2/nph_vs_nc_train.csv\",\n",
    "    \"/home/aghasemi/CompBio481/datasets/processed_datasets/usable_datasets_branch2/vad_vs_nc_train.csv\",\n",
    "]"
   ]
  },
  {
   "cell_type": "code",
   "execution_count": 25,
   "id": "8320e447-1dde-45be-a68b-ffeefb1e5f66",
   "metadata": {},
   "outputs": [
    {
     "name": "stdout",
     "output_type": "stream",
     "text": [
      "Filtered test dataset saved as /home/aghasemi/CompBio481/datasets/filtered_datasets_after_rank_feat_select_branch2_overall/ad_vs_nc_test.csv\n",
      "Filtered test dataset saved as /home/aghasemi/CompBio481/datasets/filtered_datasets_after_rank_feat_select_branch2_overall/dlb_vs_nc_test.csv\n",
      "Filtered test dataset saved as /home/aghasemi/CompBio481/datasets/filtered_datasets_after_rank_feat_select_branch2_overall/mci_vs_nc_test.csv\n",
      "Filtered test dataset saved as /home/aghasemi/CompBio481/datasets/filtered_datasets_after_rank_feat_select_branch2_overall/nph_vs_nc_test.csv\n",
      "Filtered test dataset saved as /home/aghasemi/CompBio481/datasets/filtered_datasets_after_rank_feat_select_branch2_overall/vad_vs_nc_test.csv\n"
     ]
    }
   ],
   "source": [
    "# Define the output directory\n",
    "output_directory = \"/home/aghasemi/CompBio481/datasets/filtered_datasets_after_rank_feat_select_branch2_overall\"\n",
    "if not os.path.exists(output_directory):\n",
    "    os.makedirs(output_directory)\n",
    "\n",
    "# Process each pair of test and train datasets\n",
    "for test_path, train_path in zip(test_datasets, train_datasets):\n",
    "    # Load train dataset to find out which columns to keep\n",
    "    train_df = pd.read_csv(train_path)\n",
    "    \n",
    "    # Load test dataset\n",
    "    test_df = pd.read_csv(test_path)\n",
    "    \n",
    "    # Align columns in test dataset to match train dataset\n",
    "    filtered_test_df = test_df[train_df.columns]\n",
    "    \n",
    "    # Define the new filename for the filtered test dataset\n",
    "    filtered_filename = os.path.basename(test_path).replace('_test.csv', '_test.csv')\n",
    "    \n",
    "    # Save the filtered test dataset in the specified output directory\n",
    "    filtered_test_df.to_csv(os.path.join(output_directory, filtered_filename), index=False)\n",
    "\n",
    "    print(f\"Filtered test dataset saved as {os.path.join(output_directory, filtered_filename)}\")"
   ]
  },
  {
   "cell_type": "code",
   "execution_count": null,
   "id": "1c127987-bbbc-4517-a98d-809bbcd4dc0e",
   "metadata": {},
   "outputs": [],
   "source": []
  }
 ],
 "metadata": {
  "kernelspec": {
   "display_name": "Python 3 (ipykernel)",
   "language": "python",
   "name": "python3"
  },
  "language_info": {
   "codemirror_mode": {
    "name": "ipython",
    "version": 3
   },
   "file_extension": ".py",
   "mimetype": "text/x-python",
   "name": "python",
   "nbconvert_exporter": "python",
   "pygments_lexer": "ipython3",
   "version": "3.11.9"
  }
 },
 "nbformat": 4,
 "nbformat_minor": 5
}
