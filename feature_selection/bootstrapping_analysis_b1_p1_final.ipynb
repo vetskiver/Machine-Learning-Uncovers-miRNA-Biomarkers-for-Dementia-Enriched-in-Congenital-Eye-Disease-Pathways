{
 "cells": [
  {
   "cell_type": "code",
   "execution_count": 1,
   "id": "8685bf24-1cf3-4dd8-8dd1-c01aeac34389",
   "metadata": {},
   "outputs": [],
   "source": [
    "import os\n",
    "import pandas as pd"
   ]
  },
  {
   "cell_type": "code",
   "execution_count": 4,
   "id": "8b0fcfde-73e3-48c3-9b61-392325ceda9c",
   "metadata": {},
   "outputs": [],
   "source": [
    "input_directories = [\n",
    "    \"/home/aghasemi/CompBio481/feature_selection/feat_select_res_branch1_overall/ad_vs_nc\",\n",
    "    \"/home/aghasemi/CompBio481/feature_selection/feat_select_res_branch1_overall/dlb_vs_nc\",\n",
    "    \"/home/aghasemi/CompBio481/feature_selection/feat_select_res_branch1_overall/mci_vs_nc\",\n",
    "    \"/home/aghasemi/CompBio481/feature_selection/feat_select_res_branch1_overall/nph_vs_nc\",\n",
    "    \"/home/aghasemi/CompBio481/feature_selection/feat_select_res_branch1_overall/vad_vs_nc\",\n",
    "]\n",
    "\n",
    "# input_directories = [\n",
    "#     \"/home/aghasemi/CompBio481/feature_selection/feat_select_res_branch1_sex_specific/vad_nc_male\",\n",
    "#     \"/home/aghasemi/CompBio481/feature_selection/feat_select_res_branch1_sex_specific/vad_nc_female\",\n",
    "#     \"/home/aghasemi/CompBio481/feature_selection/feat_select_res_branch1_sex_specific/nph_nc_male\",\n",
    "#     \"/home/aghasemi/CompBio481/feature_selection/feat_select_res_branch1_sex_specific/nph_nc_female\",\n",
    "#     \"/home/aghasemi/CompBio481/feature_selection/feat_select_res_branch1_sex_specific/mci_nc_male\",\n",
    "#     \"/home/aghasemi/CompBio481/feature_selection/feat_select_res_branch1_sex_specific/mci_nc_female\",\n",
    "#     \"/home/aghasemi/CompBio481/feature_selection/feat_select_res_branch1_sex_specific/dlb_nc_male\",\n",
    "#     \"/home/aghasemi/CompBio481/feature_selection/feat_select_res_branch1_sex_specific/dlb_nc_female\",\n",
    "#     \"/home/aghasemi/CompBio481/feature_selection/feat_select_res_branch1_sex_specific/ad_nc_male\",\n",
    "#     \"/home/aghasemi/CompBio481/feature_selection/feat_select_res_branch1_sex_specific/ad_nc_female\", \n",
    "# ]"
   ]
  },
  {
   "cell_type": "markdown",
   "id": "a9c139a7-3c5d-4054-a6b8-c75b9adcd4d2",
   "metadata": {},
   "source": [
    "Welch_ANOVA"
   ]
  },
  {
   "cell_type": "code",
   "execution_count": 6,
   "id": "4b022d6e-ad07-4b9b-a5ee-1b511c5bfa33",
   "metadata": {},
   "outputs": [
    {
     "name": "stdout",
     "output_type": "stream",
     "text": [
      "ad_vs_nc: Initially 7686 features, 7009 features filtered out, leaving 677 significant features.\n",
      "dlb_vs_nc: Initially 7686 features, 7094 features filtered out, leaving 592 significant features.\n",
      "mci_vs_nc: Initially 7686 features, 7647 features filtered out, leaving 39 significant features.\n",
      "nph_vs_nc: Initially 7686 features, 7382 features filtered out, leaving 304 significant features.\n",
      "vad_vs_nc: Initially 7686 features, 7139 features filtered out, leaving 547 significant features.\n"
     ]
    }
   ],
   "source": [
    "def filter_significant_features(directory):\n",
    "    # List only CSV files containing '_welch' in the filename\n",
    "    files = [os.path.join(directory, f) for f in os.listdir(directory) if f.endswith('.csv') and '_welch' in f]\n",
    "    \n",
    "    if len(files) != 3:\n",
    "        raise ValueError(\"Each directory must contain exactly three Welch ANOVA CSV files.\")\n",
    "\n",
    "    significant_features_sets = []\n",
    "    total_features = 0\n",
    "    \n",
    "    for file in files:\n",
    "        data = pd.read_csv(file)\n",
    "        total_features += len(data)  # Sum up all features before filtering\n",
    "        significant_features = data[data['P-Value'] < 0.03]['Feature']\n",
    "        significant_features_sets.append(set(significant_features))\n",
    "\n",
    "    # Intersection of significant features across all files\n",
    "    common_features = set.intersection(*significant_features_sets)\n",
    "    return common_features, total_features\n",
    "\n",
    "welch_anova_common_features_dict = {}\n",
    "total_initial_features_dict = {}\n",
    "\n",
    "# input_directories = [\n",
    "#     \"/home/aghasemi/CompBio481/feature_selection/feat_select_res_branch1_sex_specific/vad_nc_male\",\n",
    "#     \"/home/aghasemi/CompBio481/feature_selection/feat_select_res_branch1_sex_specific/vad_nc_female\",\n",
    "#     \"/home/aghasemi/CompBio481/feature_selection/feat_select_res_branch1_sex_specific/nph_nc_male\",\n",
    "#     \"/home/aghasemi/CompBio481/feature_selection/feat_select_res_branch1_sex_specific/nph_nc_female\",\n",
    "#     \"/home/aghasemi/CompBio481/feature_selection/feat_select_res_branch1_sex_specific/mci_nc_male\",\n",
    "#     \"/home/aghasemi/CompBio481/feature_selection/feat_select_res_branch1_sex_specific/mci_nc_female\",\n",
    "#     \"/home/aghasemi/CompBio481/feature_selection/feat_select_res_branch1_sex_specific/dlb_nc_male\",\n",
    "#     \"/home/aghasemi/CompBio481/feature_selection/feat_select_res_branch1_sex_specific/dlb_nc_female\",\n",
    "#     \"/home/aghasemi/CompBio481/feature_selection/feat_select_res_branch1_sex_specific/ad_nc_male\",\n",
    "#     \"/home/aghasemi/CompBio481/feature_selection/feat_select_res_branch1_sex_specific/ad_nc_female\", \n",
    "# ]\n",
    "\n",
    "input_directories = [\n",
    "    \"/home/aghasemi/CompBio481/feature_selection/feat_select_res_branch1_overall/ad_vs_nc\",\n",
    "    \"/home/aghasemi/CompBio481/feature_selection/feat_select_res_branch1_overall/dlb_vs_nc\",\n",
    "    \"/home/aghasemi/CompBio481/feature_selection/feat_select_res_branch1_overall/mci_vs_nc\",\n",
    "    \"/home/aghasemi/CompBio481/feature_selection/feat_select_res_branch1_overall/nph_vs_nc\",\n",
    "    \"/home/aghasemi/CompBio481/feature_selection/feat_select_res_branch1_overall/vad_vs_nc\",\n",
    "]\n",
    "for directory in input_directories:\n",
    "    dataset_type = directory.split('/')[-1]\n",
    "    try:\n",
    "        common_features, total_features = filter_significant_features(directory)\n",
    "        welch_anova_common_features_dict[dataset_type] = common_features\n",
    "        total_initial_features_dict[dataset_type] = total_features\n",
    "        filtered_out_features_count = total_features - len(common_features)\n",
    "        print(f\"{dataset_type}: Initially {total_features} features, {filtered_out_features_count} features filtered out, leaving {len(common_features)} significant features.\")\n",
    "    except ValueError as e:\n",
    "        print(f\"Error for {dataset_type}: {e}\")"
   ]
  },
  {
   "cell_type": "code",
   "execution_count": 41,
   "id": "7dcadebf-a3e5-4562-a9df-52586bff553a",
   "metadata": {},
   "outputs": [],
   "source": [
    "# Optionally print the dictionaries if needed to see the detailed output\n",
    "# print(\"Common Features:\", welch_anova_common_features_dict)\n",
    "# print(\"Total Initial Features:\", total_initial_features_dict)"
   ]
  },
  {
   "cell_type": "markdown",
   "id": "a39d020f-901f-4f8e-acc9-d707ea66abd4",
   "metadata": {},
   "source": [
    "RELIEFF"
   ]
  },
  {
   "cell_type": "code",
   "execution_count": 42,
   "id": "4acc211f-fb80-4332-ac5c-66f5e32496a3",
   "metadata": {},
   "outputs": [],
   "source": [
    "import os\n",
    "import pandas as pd"
   ]
  },
  {
   "cell_type": "code",
   "execution_count": 7,
   "id": "c4e99b00-fbc1-48fa-926d-72aa04497c14",
   "metadata": {},
   "outputs": [
    {
     "name": "stdout",
     "output_type": "stream",
     "text": [
      "ad_vs_nc: Initially 7686 features, 7647 features filtered out, leaving 39 significant features.\n",
      "dlb_vs_nc: Initially 7686 features, 7665 features filtered out, leaving 21 significant features.\n",
      "mci_vs_nc: Initially 7686 features, 7671 features filtered out, leaving 15 significant features.\n",
      "nph_vs_nc: Initially 7686 features, 7659 features filtered out, leaving 27 significant features.\n",
      "vad_vs_nc: Initially 7686 features, 7639 features filtered out, leaving 47 significant features.\n"
     ]
    }
   ],
   "source": [
    "def filter_top_relieff_features(directory):\n",
    "    # List only CSV files containing '_relieff' in the filename\n",
    "    files = [os.path.join(directory, f) for f in os.listdir(directory) if f.endswith('.csv') and '_relieff' in f]\n",
    "    \n",
    "    if len(files) != 3:\n",
    "        raise ValueError(\"Each directory must contain exactly three ReliefF CSV files.\")\n",
    "\n",
    "    top_features_sets = []\n",
    "    total_features = 0\n",
    "    \n",
    "    for file in files:\n",
    "        data = pd.read_csv(file)\n",
    "        total_features += len(data)  # Sum up all features before filtering\n",
    "        top_count = int(len(data) * 0.05)  # Top 10%\n",
    "        top_features = set(data.nlargest(top_count, 'ReliefF Score')['Feature'])\n",
    "        top_features_sets.append(top_features)\n",
    "\n",
    "    # Intersection of top features across all files\n",
    "    common_features = set.intersection(*top_features_sets)\n",
    "    return common_features, total_features\n",
    "\n",
    "relieff_common_features_dict = {}\n",
    "total_initial_features_dict = {}\n",
    "\n",
    "# Example input directories (update paths as necessary)\n",
    "# input_directories = [\n",
    "#     \"/home/aghasemi/CompBio481/feature_selection/feat_select_res_branch1_sex_specific/vad_nc_male\",\n",
    "#     \"/home/aghasemi/CompBio481/feature_selection/feat_select_res_branch1_sex_specific/vad_nc_female\",\n",
    "#     \"/home/aghasemi/CompBio481/feature_selection/feat_select_res_branch1_sex_specific/nph_nc_male\",\n",
    "#     \"/home/aghasemi/CompBio481/feature_selection/feat_select_res_branch1_sex_specific/nph_nc_female\",\n",
    "#     \"/home/aghasemi/CompBio481/feature_selection/feat_select_res_branch1_sex_specific/mci_nc_male\",\n",
    "#     \"/home/aghasemi/CompBio481/feature_selection/feat_select_res_branch1_sex_specific/mci_nc_female\",\n",
    "#     \"/home/aghasemi/CompBio481/feature_selection/feat_select_res_branch1_sex_specific/dlb_nc_male\",\n",
    "#     \"/home/aghasemi/CompBio481/feature_selection/feat_select_res_branch1_sex_specific/dlb_nc_female\",\n",
    "#     \"/home/aghasemi/CompBio481/feature_selection/feat_select_res_branch1_sex_specific/ad_nc_male\",\n",
    "#     \"/home/aghasemi/CompBio481/feature_selection/feat_select_res_branch1_sex_specific/ad_nc_female\", \n",
    "# ]\n",
    "\n",
    "input_directories = [\n",
    "    \"/home/aghasemi/CompBio481/feature_selection/feat_select_res_branch1_overall/ad_vs_nc\",\n",
    "    \"/home/aghasemi/CompBio481/feature_selection/feat_select_res_branch1_overall/dlb_vs_nc\",\n",
    "    \"/home/aghasemi/CompBio481/feature_selection/feat_select_res_branch1_overall/mci_vs_nc\",\n",
    "    \"/home/aghasemi/CompBio481/feature_selection/feat_select_res_branch1_overall/nph_vs_nc\",\n",
    "    \"/home/aghasemi/CompBio481/feature_selection/feat_select_res_branch1_overall/vad_vs_nc\",\n",
    "]\n",
    "for directory in input_directories:\n",
    "    dataset_type = directory.split('/')[-1]\n",
    "    try:\n",
    "        common_features, total_features = filter_top_relieff_features(directory)\n",
    "        relieff_common_features_dict[dataset_type] = common_features\n",
    "        total_initial_features_dict[dataset_type] = total_features\n",
    "        filtered_out_features_count = total_features - len(common_features)\n",
    "        print(f\"{dataset_type}: Initially {total_features} features, {filtered_out_features_count} features filtered out, leaving {len(common_features)} significant features.\")\n",
    "    except ValueError as e:\n",
    "        print(f\"Error for {dataset_type}: {e}\")"
   ]
  },
  {
   "cell_type": "markdown",
   "id": "ed195fae-cb12-4ab3-ad13-0bea62652441",
   "metadata": {},
   "source": [
    "Combine Dictionaries"
   ]
  },
  {
   "cell_type": "code",
   "execution_count": 8,
   "id": "21ef65c0-97bb-4298-8204-82602abba69b",
   "metadata": {},
   "outputs": [
    {
     "name": "stdout",
     "output_type": "stream",
     "text": [
      "ad_vs_nc: 707 significant features combined\n",
      "dlb_vs_nc: 607 significant features combined\n",
      "mci_vs_nc: 54 significant features combined\n",
      "nph_vs_nc: 331 significant features combined\n",
      "vad_vs_nc: 594 significant features combined\n"
     ]
    }
   ],
   "source": [
    "def combine_feature_dictionaries(dict1, dict2):\n",
    "    # Combine two dictionaries where values are sets of features\n",
    "    combined_dict = {}\n",
    "    for key in dict1:\n",
    "        if key in dict2:\n",
    "            combined_dict[key] = dict1[key].union(dict2[key])\n",
    "        else:\n",
    "            combined_dict[key] = dict1[key]  # Only dict1 has this key\n",
    "    for key in dict2:\n",
    "        if key not in dict1:\n",
    "            combined_dict[key] = dict2[key]  # Only dict2 has this key\n",
    "    return combined_dict\n",
    "\n",
    "# Assuming welch_anova_common_features_dict and relieff_common_features_dict are already defined\n",
    "combined_features_dict = combine_feature_dictionaries(welch_anova_common_features_dict, relieff_common_features_dict)\n",
    "\n",
    "# Print the combined results for each dataset condition\n",
    "for condition, features in combined_features_dict.items():\n",
    "    print(f\"{condition}: {len(features)} significant features combined\")"
   ]
  },
  {
   "cell_type": "markdown",
   "id": "26e8bb0d-9a2c-4fb9-a161-732cadc165bd",
   "metadata": {},
   "source": [
    "Filter Datasets"
   ]
  },
  {
   "cell_type": "code",
   "execution_count": 9,
   "id": "7fff3b6f-c2cc-4dc9-8861-b75a2bc5c35f",
   "metadata": {},
   "outputs": [],
   "source": [
    "# datasets = [\n",
    "#     \"/home/aghasemi/CompBio481/datasets/processed_datasets/usable_datasets_branch1/vad_nc_male.csv\",\n",
    "#     \"/home/aghasemi/CompBio481/datasets/processed_datasets/usable_datasets_branch1/vad_nc_female.csv\",\n",
    "#     \"/home/aghasemi/CompBio481/datasets/processed_datasets/usable_datasets_branch1/nph_nc_male.csv\",\n",
    "#     \"/home/aghasemi/CompBio481/datasets/processed_datasets/usable_datasets_branch1/nph_nc_female.csv\",\n",
    "#     \"/home/aghasemi/CompBio481/datasets/processed_datasets/usable_datasets_branch1/mci_nc_male.csv\",\n",
    "#     \"/home/aghasemi/CompBio481/datasets/processed_datasets/usable_datasets_branch1/mci_nc_female.csv\",\n",
    "#     \"/home/aghasemi/CompBio481/datasets/processed_datasets/usable_datasets_branch1/dlb_nc_male.csv\",\n",
    "#     \"/home/aghasemi/CompBio481/datasets/processed_datasets/usable_datasets_branch1/dlb_nc_female.csv\",\n",
    "#     \"/home/aghasemi/CompBio481/datasets/processed_datasets/usable_datasets_branch1/ad_nc_male.csv\",\n",
    "#     \"/home/aghasemi/CompBio481/datasets/processed_datasets/usable_datasets_branch1/ad_nc_female.csv\",\n",
    "# ]\n",
    "\n",
    "datasets = [\n",
    "    \"/home/aghasemi/CompBio481/datasets/processed_datasets/usable_datasets_branch1/ad_vs_nc.csv\",\n",
    "    \"/home/aghasemi/CompBio481/datasets/processed_datasets/usable_datasets_branch1/dlb_vs_nc.csv\",\n",
    "    \"/home/aghasemi/CompBio481/datasets/processed_datasets/usable_datasets_branch1/mci_vs_nc.csv\",\n",
    "    \"/home/aghasemi/CompBio481/datasets/processed_datasets/usable_datasets_branch1/nph_vs_nc.csv\",\n",
    "    \"/home/aghasemi/CompBio481/datasets/processed_datasets/usable_datasets_branch1/vad_vs_nc.csv\",\n",
    "]"
   ]
  },
  {
   "cell_type": "code",
   "execution_count": 10,
   "id": "005670f4-18e3-4d74-b13b-b802336466e1",
   "metadata": {},
   "outputs": [],
   "source": [
    "def filter_datasets(datasets, features_dict, output_directory):\n",
    "    # Ensure the output directory exists\n",
    "    os.makedirs(output_directory, exist_ok=True)\n",
    "\n",
    "    # Fixed columns to retain in each dataset\n",
    "    fixed_columns = ['ID_1', 'Diagnosis', 'Age', 'Sex', 'APOE4']\n",
    "\n",
    "    for dataset_path in datasets:\n",
    "        # Extract the condition name from the file path\n",
    "        condition = os.path.basename(dataset_path).replace('.csv', '')\n",
    "        if condition in features_dict:\n",
    "            # Load the dataset\n",
    "            df = pd.read_csv(dataset_path)\n",
    "\n",
    "            # Combine significant features with fixed columns\n",
    "            significant_features = features_dict[condition]\n",
    "            columns_to_keep = fixed_columns + list(significant_features)\n",
    "\n",
    "            # Filter the DataFrame to include only the required columns\n",
    "            filtered_df = df.loc[:, df.columns.isin(columns_to_keep)]\n",
    "\n",
    "            # Reorder columns to ensure ID_1 is the first column\n",
    "            columns_order = ['ID_1'] + [col for col in filtered_df.columns if col != 'ID_1']\n",
    "            filtered_df = filtered_df[columns_order]\n",
    "\n",
    "            # Prepare output file path\n",
    "            output_file_path = os.path.join(output_directory, os.path.basename(dataset_path))\n",
    "\n",
    "            # Save the filtered DataFrame\n",
    "            filtered_df.to_csv(output_file_path, index=False)\n",
    "\n",
    "            print(f\"Filtered dataset saved to {output_file_path}\")\n",
    "        else:\n",
    "            print(f\"No features found for {condition}, skipping...\")"
   ]
  },
  {
   "cell_type": "code",
   "execution_count": 11,
   "id": "063ba32b-dd9e-4b23-bbdb-719b79358fd4",
   "metadata": {},
   "outputs": [],
   "source": [
    "# Define the datasets paths\n",
    "datasets = [\n",
    "    \"/home/aghasemi/CompBio481/datasets/processed_datasets/usable_datasets_branch1/ad_vs_nc.csv\",\n",
    "    \"/home/aghasemi/CompBio481/datasets/processed_datasets/usable_datasets_branch1/dlb_vs_nc.csv\",\n",
    "    \"/home/aghasemi/CompBio481/datasets/processed_datasets/usable_datasets_branch1/mci_vs_nc.csv\",\n",
    "    \"/home/aghasemi/CompBio481/datasets/processed_datasets/usable_datasets_branch1/nph_vs_nc.csv\",\n",
    "    \"/home/aghasemi/CompBio481/datasets/processed_datasets/usable_datasets_branch1/vad_vs_nc.csv\",\n",
    "]\n",
    "\n",
    "# datasets = [\n",
    "#     \"/home/aghasemi/CompBio481/datasets/processed_datasets/usable_datasets_branch1/vad_nc_male.csv\",\n",
    "#     \"/home/aghasemi/CompBio481/datasets/processed_datasets/usable_datasets_branch1/vad_nc_female.csv\",\n",
    "#     \"/home/aghasemi/CompBio481/datasets/processed_datasets/usable_datasets_branch1/nph_nc_male.csv\",\n",
    "#     \"/home/aghasemi/CompBio481/datasets/processed_datasets/usable_datasets_branch1/nph_nc_female.csv\",\n",
    "#     \"/home/aghasemi/CompBio481/datasets/processed_datasets/usable_datasets_branch1/mci_nc_male.csv\",\n",
    "#     \"/home/aghasemi/CompBio481/datasets/processed_datasets/usable_datasets_branch1/mci_nc_female.csv\",\n",
    "#     \"/home/aghasemi/CompBio481/datasets/processed_datasets/usable_datasets_branch1/dlb_nc_male.csv\",\n",
    "#     \"/home/aghasemi/CompBio481/datasets/processed_datasets/usable_datasets_branch1/dlb_nc_female.csv\",\n",
    "#     \"/home/aghasemi/CompBio481/datasets/processed_datasets/usable_datasets_branch1/ad_nc_male.csv\",\n",
    "#     \"/home/aghasemi/CompBio481/datasets/processed_datasets/usable_datasets_branch1/ad_nc_female.csv\",\n",
    "# ]"
   ]
  },
  {
   "cell_type": "code",
   "execution_count": 12,
   "id": "bee9a9d1-c2ad-4a0a-bd32-527180fdb2a5",
   "metadata": {},
   "outputs": [],
   "source": [
    "# Define the output directory\n",
    "output_directory = \"/home/aghasemi/CompBio481/datasets/filtered_datasets_after_rank_feat_select_branch1_overall\""
   ]
  },
  {
   "cell_type": "code",
   "execution_count": 13,
   "id": "26c2dc07-57b7-4a74-b292-363d38526c9e",
   "metadata": {},
   "outputs": [
    {
     "name": "stdout",
     "output_type": "stream",
     "text": [
      "Filtered dataset saved to /home/aghasemi/CompBio481/datasets/filtered_datasets_after_rank_feat_select_branch1_overall/ad_vs_nc.csv\n",
      "Filtered dataset saved to /home/aghasemi/CompBio481/datasets/filtered_datasets_after_rank_feat_select_branch1_overall/dlb_vs_nc.csv\n",
      "Filtered dataset saved to /home/aghasemi/CompBio481/datasets/filtered_datasets_after_rank_feat_select_branch1_overall/mci_vs_nc.csv\n",
      "Filtered dataset saved to /home/aghasemi/CompBio481/datasets/filtered_datasets_after_rank_feat_select_branch1_overall/nph_vs_nc.csv\n",
      "Filtered dataset saved to /home/aghasemi/CompBio481/datasets/filtered_datasets_after_rank_feat_select_branch1_overall/vad_vs_nc.csv\n"
     ]
    }
   ],
   "source": [
    "# Call the function\n",
    "filter_datasets(datasets, combined_features_dict, output_directory)"
   ]
  },
  {
   "cell_type": "code",
   "execution_count": null,
   "id": "f5c16fe1-2cdb-4575-95a3-d23a6453c641",
   "metadata": {},
   "outputs": [],
   "source": []
  }
 ],
 "metadata": {
  "kernelspec": {
   "display_name": "Python 3 (ipykernel)",
   "language": "python",
   "name": "python3"
  },
  "language_info": {
   "codemirror_mode": {
    "name": "ipython",
    "version": 3
   },
   "file_extension": ".py",
   "mimetype": "text/x-python",
   "name": "python",
   "nbconvert_exporter": "python",
   "pygments_lexer": "ipython3",
   "version": "3.11.4"
  }
 },
 "nbformat": 4,
 "nbformat_minor": 5
}
