{
 "cells": [
  {
   "cell_type": "markdown",
   "id": "ea652a77-4895-47d2-b9ba-0592b8763547",
   "metadata": {},
   "source": [
    "### Import Libraries and Define Paths\n",
    "\n",
    "This section imports the necessary libraries for statistical analysis and file handling. It also defines the paths to the datasets that will be processed."
   ]
  },
  {
   "cell_type": "code",
   "execution_count": 35,
   "id": "93b1ca91-8723-431c-9692-c763ca1b6225",
   "metadata": {},
   "outputs": [],
   "source": [
    "import pandas as pd\n",
    "import scipy.stats as stats\n",
    "import statsmodels.api as sm\n",
    "from statsmodels.formula.api import ols\n",
    "import os"
   ]
  },
  {
   "cell_type": "code",
   "execution_count": 36,
   "id": "11b3afd6-cff8-4122-9f05-b79fb877f7a0",
   "metadata": {},
   "outputs": [],
   "source": [
    "# Paths to datasets\n",
    "datasets = [\n",
    "    \"/home/aghasemi/CompBio481/datasets/processed_datasets/usable_datasets_branch2/NC_vs_AD_train.csv\",\n",
    "    \"/home/aghasemi/CompBio481/datasets/processed_datasets/usable_datasets_branch2/NC_vs_DLB_train.csv\",\n",
    "    \"/home/aghasemi/CompBio481/datasets/processed_datasets/usable_datasets_branch2/NC_vs_MCI_train.csv\",\n",
    "    \"/home/aghasemi/CompBio481/datasets/processed_datasets/usable_datasets_branch2/NC_vs_NPH_train.csv\",\n",
    "    \"/home/aghasemi/CompBio481/datasets/processed_datasets/usable_datasets_branch2/NC_vs_VaD_train.csv\",\n",
    "]"
   ]
  },
  {
   "cell_type": "markdown",
   "id": "57ef4791-407e-444b-b5a5-cdce7e608ebf",
   "metadata": {},
   "source": [
    "### Statistical Analysis: Shapiro-Wilk, Levene's, and Bartlett's Tests\n",
    "\n",
    "This section performs statistical tests to evaluate the normality of residuals and the equality of variances across groups in each dataset. The results are collected and stored for further analysis."
   ]
  },
  {
   "cell_type": "code",
   "execution_count": 37,
   "id": "53e111f5-e989-4d07-840d-c1799cb88422",
   "metadata": {},
   "outputs": [],
   "source": [
    "# Define significance level for statistical tests\n",
    "significance_level = 0.05\n",
    "\n",
    "# Initialize a list to store results from all datasets\n",
    "all_results = []"
   ]
  },
  {
   "cell_type": "code",
   "execution_count": 38,
   "id": "4117d2ec-5c1d-4968-a5ab-17d4ed3ae9ff",
   "metadata": {},
   "outputs": [],
   "source": [
    "for dataset_path in datasets:\n",
    "    data_frame = pd.read_csv(dataset_path)\n",
    "    # Exclude 'Age', 'Sex', 'APOE4', and 'ID_1'\n",
    "    data_frame = data_frame.drop(columns=['Age', 'Sex', 'APOE4', 'ID_1'])\n",
    "    \n",
    "    variables = data_frame.columns.difference(['Diagnosis'])\n",
    "    dataset_results = []\n",
    "\n",
    "    for var in variables:\n",
    "        # Using Q() to safely include variable names in the formula\n",
    "        formula = f'Diagnosis ~ Q(\"{var}\")'\n",
    "        model = ols(formula, data=data_frame).fit()\n",
    "        \n",
    "        # Shapiro-Wilk Test on the residuals\n",
    "        shapiro_p = stats.shapiro(model.resid)[1]\n",
    "        \n",
    "        # Collect groups for variance tests\n",
    "        groups = [data_frame[data_frame['Diagnosis'] == g][var] for g in data_frame['Diagnosis'].unique()]\n",
    "\n",
    "        # Levene's Test\n",
    "        levene_p = stats.levene(*groups)[1]\n",
    "        \n",
    "        # Bartlett’s Test\n",
    "        bartlett_p = stats.bartlett(*groups)[1]\n",
    "\n",
    "        # Append the results for this variable to the dataset results list\n",
    "        dataset_results.append({\n",
    "            'Variable': var,\n",
    "            'Shapiro-Wilk p-value': shapiro_p,\n",
    "            'Levene’s Test p-value': levene_p,\n",
    "            'Bartlett’s Test p-value': bartlett_p\n",
    "        })\n",
    "\n",
    "    # Append the results from this dataset to the all results list\n",
    "    all_results.append({\n",
    "        'Dataset': dataset_path,\n",
    "        'Results': dataset_results\n",
    "    })"
   ]
  },
  {
   "cell_type": "code",
   "execution_count": null,
   "id": "c17a9d11-3955-4fad-9c5c-dd095f7eb902",
   "metadata": {},
   "outputs": [],
   "source": []
  },
  {
   "cell_type": "code",
   "execution_count": 39,
   "id": "ef19e8d3-38de-4d13-9031-4a3238872f53",
   "metadata": {},
   "outputs": [
    {
     "name": "stdout",
     "output_type": "stream",
     "text": [
      "Saved failed features for dataset NC_vs_AD_train to /home/aghasemi/CompBio481/feature_selection/ANOVA_datasets_b2/NC_vs_AD_train_failed_features.csv\n",
      "Saved failed features for dataset NC_vs_DLB_train to /home/aghasemi/CompBio481/feature_selection/ANOVA_datasets_b2/NC_vs_DLB_train_failed_features.csv\n",
      "Saved failed features for dataset NC_vs_MCI_train to /home/aghasemi/CompBio481/feature_selection/ANOVA_datasets_b2/NC_vs_MCI_train_failed_features.csv\n",
      "Saved failed features for dataset NC_vs_NPH_train to /home/aghasemi/CompBio481/feature_selection/ANOVA_datasets_b2/NC_vs_NPH_train_failed_features.csv\n",
      "Saved failed features for dataset NC_vs_VaD_train to /home/aghasemi/CompBio481/feature_selection/ANOVA_datasets_b2/NC_vs_VaD_train_failed_features.csv\n"
     ]
    }
   ],
   "source": [
    "# Define the directory to save the CSV files\n",
    "save_directory = \"/home/aghasemi/CompBio481/feature_selection/ANOVA_datasets_b2\"\n",
    "\n",
    "# Process each dataset\n",
    "for result in all_results:\n",
    "    dataset_path = result['Dataset']\n",
    "    df = pd.DataFrame(result['Results'])\n",
    "\n",
    "    # Initialize lists to store features that fail either Levene's or Bartlett's tests\n",
    "    failed_features = []\n",
    "\n",
    "    # Check if any features fail Levene's or Bartlett's tests and store their names\n",
    "    failed_levene = df[df[\"Levene’s Test p-value\"] < significance_level][\"Variable\"]\n",
    "    failed_bartlett = df[df[\"Bartlett’s Test p-value\"] < significance_level][\"Variable\"]\n",
    "    failed_features.extend(failed_levene)\n",
    "    failed_features.extend(failed_bartlett)\n",
    "\n",
    "    # Remove duplicates\n",
    "    failed_features = list(set(failed_features))\n",
    "\n",
    "    # Create a DataFrame with the failed features\n",
    "    failed_features_df = pd.DataFrame(failed_features, columns=[\"Failed Features\"])\n",
    "\n",
    "    # Extract dataset name from the file path\n",
    "    dataset_name = os.path.splitext(os.path.basename(dataset_path))[0]\n",
    "\n",
    "    # Save the DataFrame to a CSV file in the specified directory\n",
    "    csv_file_path = os.path.join(save_directory, f\"{dataset_name}_failed_features.csv\")\n",
    "    failed_features_df.to_csv(csv_file_path, index=False)\n",
    "\n",
    "    print(f\"Saved failed features for dataset {dataset_name} to {csv_file_path}\")"
   ]
  },
  {
   "cell_type": "code",
   "execution_count": 40,
   "id": "d49c7e83-b35c-4a28-b94c-d57da1b03fa9",
   "metadata": {},
   "outputs": [],
   "source": [
    "# Paths to datasets\n",
    "datasets = [\n",
    "    \"/home/aghasemi/CompBio481/datasets/processed_datasets/usable_datasets_branch2/NC_vs_AD_train.csv\",\n",
    "    \"/home/aghasemi/CompBio481/datasets/processed_datasets/usable_datasets_branch2/NC_vs_DLB_train.csv\",\n",
    "    \"/home/aghasemi/CompBio481/datasets/processed_datasets/usable_datasets_branch2/NC_vs_MCI_train.csv\",\n",
    "    \"/home/aghasemi/CompBio481/datasets/processed_datasets/usable_datasets_branch2/NC_vs_NPH_train.csv\",\n",
    "    \"/home/aghasemi/CompBio481/datasets/processed_datasets/usable_datasets_branch2/NC_vs_VaD_train.csv\",\n",
    "]"
   ]
  },
  {
   "cell_type": "code",
   "execution_count": 28,
   "id": "a73466a0-8472-4f7b-ab8c-9ddd5f7da4a8",
   "metadata": {},
   "outputs": [],
   "source": [
    "datasets = [\n",
    "    \"/home/aghasemi/CompBio481/datasets/processed_datasets/usable_datasets_branch1/NC_vs_AD_male.csv\",\n",
    "    \"/home/aghasemi/CompBio481/datasets/processed_datasets/usable_datasets_branch1/NC_vs_DLB_male.csv\",\n",
    "    \"/home/aghasemi/CompBio481/datasets/processed_datasets/usable_datasets_branch1/NC_vs_MCI_male.csv\",\n",
    "    \"/home/aghasemi/CompBio481/datasets/processed_datasets/usable_datasets_branch1/NC_vs_NPH_male.csv\",\n",
    "    \"/home/aghasemi/CompBio481/datasets/processed_datasets/usable_datasets_branch1/NC_vs_VaD_male.csv\",\n",
    "    \n",
    "    \"/home/aghasemi/CompBio481/datasets/processed_datasets/usable_datasets_branch1/NC_vs_AD_female.csv\",\n",
    "    \"/home/aghasemi/CompBio481/datasets/processed_datasets/usable_datasets_branch1/NC_vs_DLB_female.csv\",\n",
    "    \"/home/aghasemi/CompBio481/datasets/processed_datasets/usable_datasets_branch1/NC_vs_MCI_female.csv\",\n",
    "    \"/home/aghasemi/CompBio481/datasets/processed_datasets/usable_datasets_branch1/NC_vs_NPH_female.csv\",\n",
    "    \"/home/aghasemi/CompBio481/datasets/processed_datasets/usable_datasets_branch1/NC_vs_VaD_female.csv\",\n",
    "]"
   ]
  },
  {
   "cell_type": "code",
   "execution_count": 41,
   "id": "96aab698-7f6b-45f0-a57f-1ee2ee78df73",
   "metadata": {},
   "outputs": [
    {
     "name": "stdout",
     "output_type": "stream",
     "text": [
      "Filtered dataset saved to /home/aghasemi/CompBio481/feature_selection/ANOVA_datasets_b2/NC_vs_AD_train_ANOVA_failed_features.csv\n",
      "Dataset without failed features saved to /home/aghasemi/CompBio481/feature_selection/ANOVA_datasets_b2/NC_vs_AD_train_ANOVA_not_failed_features.csv\n",
      "Filtered dataset saved to /home/aghasemi/CompBio481/feature_selection/ANOVA_datasets_b2/NC_vs_DLB_train_ANOVA_failed_features.csv\n",
      "Dataset without failed features saved to /home/aghasemi/CompBio481/feature_selection/ANOVA_datasets_b2/NC_vs_DLB_train_ANOVA_not_failed_features.csv\n",
      "Filtered dataset saved to /home/aghasemi/CompBio481/feature_selection/ANOVA_datasets_b2/NC_vs_MCI_train_ANOVA_failed_features.csv\n",
      "Dataset without failed features saved to /home/aghasemi/CompBio481/feature_selection/ANOVA_datasets_b2/NC_vs_MCI_train_ANOVA_not_failed_features.csv\n",
      "Filtered dataset saved to /home/aghasemi/CompBio481/feature_selection/ANOVA_datasets_b2/NC_vs_NPH_train_ANOVA_failed_features.csv\n",
      "Dataset without failed features saved to /home/aghasemi/CompBio481/feature_selection/ANOVA_datasets_b2/NC_vs_NPH_train_ANOVA_not_failed_features.csv\n",
      "Filtered dataset saved to /home/aghasemi/CompBio481/feature_selection/ANOVA_datasets_b2/NC_vs_VaD_train_ANOVA_failed_features.csv\n",
      "Dataset without failed features saved to /home/aghasemi/CompBio481/feature_selection/ANOVA_datasets_b2/NC_vs_VaD_train_ANOVA_not_failed_features.csv\n"
     ]
    }
   ],
   "source": [
    "# Define the directory to save the filtered datasets\n",
    "save_directory = \"/home/aghasemi/CompBio481/feature_selection/ANOVA_datasets_b2\"\n",
    "\n",
    "# Process each dataset\n",
    "for dataset_path in datasets:\n",
    "    # Read the dataset\n",
    "    df = pd.read_csv(dataset_path)\n",
    "\n",
    "    # Extract dataset name from the file path\n",
    "    dataset_name = os.path.splitext(os.path.basename(dataset_path))[0]\n",
    "\n",
    "    # Load the list of failed features\n",
    "    failed_features_path = os.path.join(save_directory, f\"{dataset_name}_failed_features.csv\")\n",
    "    failed_features_df = pd.read_csv(failed_features_path)\n",
    "    failed_features = failed_features_df['Failed Features'].tolist()\n",
    "\n",
    "    # Filter the dataset to keep specified features and features that failed Levene's or Bartlett's tests\n",
    "    features_to_keep = ['ID_1', 'Age', 'Sex', 'APOE4', 'Diagnosis']\n",
    "    features_to_keep.extend(failed_features)\n",
    "    filtered_df = df[features_to_keep]\n",
    "\n",
    "    # Save the filtered dataset to a CSV file\n",
    "    filtered_dataset_path = os.path.join(save_directory, f\"{dataset_name}_ANOVA_failed_features.csv\")\n",
    "    filtered_df.to_csv(filtered_dataset_path, index=False)\n",
    "\n",
    "    print(f\"Filtered dataset saved to {filtered_dataset_path}\")\n",
    "\n",
    "    # Create a dataset without the failed features\n",
    "    df_without_failed_features = df.drop(columns=failed_features)\n",
    "    dataset_without_failed_features_path = os.path.join(save_directory, f\"{dataset_name}_ANOVA_not_failed_features.csv\")\n",
    "    df_without_failed_features.to_csv(dataset_without_failed_features_path, index=False)\n",
    "\n",
    "    print(f\"Dataset without failed features saved to {dataset_without_failed_features_path}\")"
   ]
  }
 ],
 "metadata": {
  "kernelspec": {
   "display_name": "Python 3 (ipykernel)",
   "language": "python",
   "name": "python3"
  },
  "language_info": {
   "codemirror_mode": {
    "name": "ipython",
    "version": 3
   },
   "file_extension": ".py",
   "mimetype": "text/x-python",
   "name": "python",
   "nbconvert_exporter": "python",
   "pygments_lexer": "ipython3",
   "version": "3.11.9"
  }
 },
 "nbformat": 4,
 "nbformat_minor": 5
}
