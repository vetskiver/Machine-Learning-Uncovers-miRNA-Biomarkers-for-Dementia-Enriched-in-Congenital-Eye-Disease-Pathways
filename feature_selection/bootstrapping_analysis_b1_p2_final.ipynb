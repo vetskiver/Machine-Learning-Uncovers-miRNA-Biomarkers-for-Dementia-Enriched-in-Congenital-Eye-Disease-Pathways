{
 "cells": [
  {
   "cell_type": "code",
   "execution_count": 37,
   "id": "11fd8540-bd5d-4911-abcd-36b1bf74402c",
   "metadata": {},
   "outputs": [],
   "source": [
    "import pandas as pd\n",
    "import os"
   ]
  },
  {
   "cell_type": "code",
   "execution_count": 38,
   "id": "dee1c73a-e889-427e-abd8-392d7e17d72b",
   "metadata": {},
   "outputs": [],
   "source": [
    "# directories = [\n",
    "#     \"/home/aghasemi/CompBio481/feature_selection/feat_select_res_branch1_overall_p2/ad_vs_nc\",\n",
    "#     \"/home/aghasemi/CompBio481/feature_selection/feat_select_res_branch1_overall_p2/dlb_vs_nc\",\n",
    "#     \"/home/aghasemi/CompBio481/feature_selection/feat_select_res_branch1_overall_p2/mci_vs_nc\",\n",
    "#     \"/home/aghasemi/CompBio481/feature_selection/feat_select_res_branch1_overall_p2/nph_vs_nc\",\n",
    "#     \"/home/aghasemi/CompBio481/feature_selection/feat_select_res_branch1_overall_p2/vad_vs_nc\",\n",
    "# ]\n",
    "\n",
    "directories = [\n",
    "    \"/home/aghasemi/CompBio481/feature_selection/feat_select_res_branch1_sex_specific_p2/vad_nc_male\",\n",
    "    \"/home/aghasemi/CompBio481/feature_selection/feat_select_res_branch1_sex_specific_p2/vad_nc_female\",\n",
    "    \"/home/aghasemi/CompBio481/feature_selection/feat_select_res_branch1_sex_specific_p2/nph_nc_male\",\n",
    "    \"/home/aghasemi/CompBio481/feature_selection/feat_select_res_branch1_sex_specific_p2/nph_nc_female\",\n",
    "    \"/home/aghasemi/CompBio481/feature_selection/feat_select_res_branch1_sex_specific_p2/mci_nc_male\",\n",
    "    \"/home/aghasemi/CompBio481/feature_selection/feat_select_res_branch1_sex_specific_p2/mci_nc_female\",\n",
    "    \"/home/aghasemi/CompBio481/feature_selection/feat_select_res_branch1_sex_specific_p2/dlb_nc_male\",\n",
    "    \"/home/aghasemi/CompBio481/feature_selection/feat_select_res_branch1_sex_specific_p2/dlb_nc_female\",\n",
    "    \"/home/aghasemi/CompBio481/feature_selection/feat_select_res_branch1_sex_specific_p2/ad_nc_male\",\n",
    "    \"/home/aghasemi/CompBio481/feature_selection/feat_select_res_branch1_sex_specific_p2/ad_nc_female\",\n",
    "]"
   ]
  },
  {
   "cell_type": "code",
   "execution_count": 39,
   "id": "6b7bd57e-e094-48b4-86a7-1109e401b2c0",
   "metadata": {},
   "outputs": [],
   "source": [
    "# datasets = [\n",
    "#     \"/home/aghasemi/CompBio481/datasets/filtered_datasets_after_rank_feat_select_branch1_overall/ad_vs_nc.csv\",\n",
    "#     \"/home/aghasemi/CompBio481/datasets/filtered_datasets_after_rank_feat_select_branch1_overall/dlb_vs_nc.csv\",\n",
    "#     \"/home/aghasemi/CompBio481/datasets/filtered_datasets_after_rank_feat_select_branch1_overall/mci_vs_nc.csv\",\n",
    "#     \"/home/aghasemi/CompBio481/datasets/filtered_datasets_after_rank_feat_select_branch1_overall/nph_vs_nc.csv\",\n",
    "#     \"/home/aghasemi/CompBio481/datasets/filtered_datasets_after_rank_feat_select_branch1_overall/vad_vs_nc.csv\",\n",
    "# ]\n",
    "datasets = [\n",
    "    \"/home/aghasemi/CompBio481/datasets/filtered_datasets_after_rank_feat_select_branch1_sex_specific/vad_nc_male.csv\",\n",
    "    \"/home/aghasemi/CompBio481/datasets/filtered_datasets_after_rank_feat_select_branch1_sex_specific/vad_nc_female.csv\",\n",
    "    \"/home/aghasemi/CompBio481/datasets/filtered_datasets_after_rank_feat_select_branch1_sex_specific/nph_nc_male.csv\",\n",
    "    \"/home/aghasemi/CompBio481/datasets/filtered_datasets_after_rank_feat_select_branch1_sex_specific/nph_nc_female.csv\",\n",
    "    \"/home/aghasemi/CompBio481/datasets/filtered_datasets_after_rank_feat_select_branch1_sex_specific/mci_nc_male.csv\",\n",
    "    \"/home/aghasemi/CompBio481/datasets/filtered_datasets_after_rank_feat_select_branch1_sex_specific/mci_nc_female.csv\",\n",
    "    \"/home/aghasemi/CompBio481/datasets/filtered_datasets_after_rank_feat_select_branch1_sex_specific/dlb_nc_male.csv\",\n",
    "    \"/home/aghasemi/CompBio481/datasets/filtered_datasets_after_rank_feat_select_branch1_sex_specific/dlb_nc_female.csv\",\n",
    "    \"/home/aghasemi/CompBio481/datasets/filtered_datasets_after_rank_feat_select_branch1_sex_specific/ad_nc_male.csv\",\n",
    "    \"/home/aghasemi/CompBio481/datasets/filtered_datasets_after_rank_feat_select_branch1_sex_specific/ad_nc_female.csv\",\n",
    "]"
   ]
  },
  {
   "cell_type": "markdown",
   "id": "a4c2ce3c-f79c-4e14-930c-2c9f3905f105",
   "metadata": {},
   "source": [
    "**Filter Datasets**"
   ]
  },
  {
   "cell_type": "code",
   "execution_count": 40,
   "id": "1ebb8383-de5b-4bbc-a3b5-eee7306d22f6",
   "metadata": {},
   "outputs": [],
   "source": [
    "import pandas as pd\n",
    "import os"
   ]
  },
  {
   "cell_type": "code",
   "execution_count": 41,
   "id": "56d0af06-0811-45a6-8244-c0c2eb52abc7",
   "metadata": {},
   "outputs": [],
   "source": [
    "def load_and_filter_datasets(directories, datasets, output_directory):\n",
    "    if not os.path.exists(output_directory):\n",
    "        os.makedirs(output_directory)  # Create the output directory if it doesn't exist\n",
    "\n",
    "    results = {}\n",
    "    essential_cols = [\"Age\", \"Sex\", \"APOE4\", \"Diagnosis\", \"ID_1\"]  # Essential columns list including 'ID_1'\n",
    "\n",
    "    # Loop through each directory and its corresponding dataset\n",
    "    for dir_path, dataset_path in zip(directories, datasets):\n",
    "        # Extract the condition name from the directory path\n",
    "        condition = os.path.basename(dir_path)\n",
    "\n",
    "        # Load the features from the rfe_results.csv file in the directory\n",
    "        rfe_path = os.path.join(dir_path, 'rfe_results.csv')\n",
    "        if not os.path.exists(rfe_path):\n",
    "            results[condition] = \"rfe_results.csv not found.\"\n",
    "            continue\n",
    "\n",
    "        rfe_results = pd.read_csv(rfe_path)\n",
    "\n",
    "        # Extract feature names which are selected (assuming a column 'Feature' lists them)\n",
    "        features_to_keep = list(rfe_results['Feature'])\n",
    "\n",
    "        # Load the corresponding dataset\n",
    "        df = pd.read_csv(dataset_path)\n",
    "\n",
    "        # Ensure 'ID_1' is the first column\n",
    "        if 'ID_1' in df.columns:\n",
    "            id_col = df.pop('ID_1')\n",
    "            df.insert(0, 'ID_1', id_col)\n",
    "\n",
    "        # Combine essential columns with the selected features, ensuring 'ID_1' is maintained at the start\n",
    "        features_to_keep = [col for col in essential_cols if col in df.columns and col != 'ID_1'] + features_to_keep\n",
    "        features_to_keep.insert(0, 'ID_1')  # Make sure 'ID_1' remains the first element\n",
    "\n",
    "        # Filter the DataFrame to only keep the required columns\n",
    "        filtered_df = df[features_to_keep]\n",
    "\n",
    "        # Define a new file name and save the filtered dataset\n",
    "        new_file_path = os.path.join(output_directory, f\"{condition}.csv\")\n",
    "        filtered_df.to_csv(new_file_path, index=False)\n",
    "        results[condition] = f\"Filtered dataset created and saved to {new_file_path}\"\n",
    "\n",
    "    return results"
   ]
  },
  {
   "cell_type": "code",
   "execution_count": 42,
   "id": "ca4900d6-76a7-484e-9075-4b83199463c6",
   "metadata": {},
   "outputs": [],
   "source": [
    "output_directory = \"/home/aghasemi/CompBio481/datasets/filtered_datasets_after_subset_feat_select_branch1_sex_specific\""
   ]
  },
  {
   "cell_type": "code",
   "execution_count": 43,
   "id": "f821e72f-f090-4ee2-b608-9b90f7ff26f6",
   "metadata": {},
   "outputs": [
    {
     "data": {
      "text/plain": [
       "{'vad_nc_male': 'Filtered dataset created and saved to /home/aghasemi/CompBio481/datasets/filtered_datasets_after_subset_feat_select_branch1_sex_specific/vad_nc_male.csv',\n",
       " 'vad_nc_female': 'Filtered dataset created and saved to /home/aghasemi/CompBio481/datasets/filtered_datasets_after_subset_feat_select_branch1_sex_specific/vad_nc_female.csv',\n",
       " 'nph_nc_male': 'Filtered dataset created and saved to /home/aghasemi/CompBio481/datasets/filtered_datasets_after_subset_feat_select_branch1_sex_specific/nph_nc_male.csv',\n",
       " 'nph_nc_female': 'Filtered dataset created and saved to /home/aghasemi/CompBio481/datasets/filtered_datasets_after_subset_feat_select_branch1_sex_specific/nph_nc_female.csv',\n",
       " 'mci_nc_male': 'Filtered dataset created and saved to /home/aghasemi/CompBio481/datasets/filtered_datasets_after_subset_feat_select_branch1_sex_specific/mci_nc_male.csv',\n",
       " 'mci_nc_female': 'Filtered dataset created and saved to /home/aghasemi/CompBio481/datasets/filtered_datasets_after_subset_feat_select_branch1_sex_specific/mci_nc_female.csv',\n",
       " 'dlb_nc_male': 'Filtered dataset created and saved to /home/aghasemi/CompBio481/datasets/filtered_datasets_after_subset_feat_select_branch1_sex_specific/dlb_nc_male.csv',\n",
       " 'dlb_nc_female': 'Filtered dataset created and saved to /home/aghasemi/CompBio481/datasets/filtered_datasets_after_subset_feat_select_branch1_sex_specific/dlb_nc_female.csv',\n",
       " 'ad_nc_male': 'Filtered dataset created and saved to /home/aghasemi/CompBio481/datasets/filtered_datasets_after_subset_feat_select_branch1_sex_specific/ad_nc_male.csv',\n",
       " 'ad_nc_female': 'Filtered dataset created and saved to /home/aghasemi/CompBio481/datasets/filtered_datasets_after_subset_feat_select_branch1_sex_specific/ad_nc_female.csv'}"
      ]
     },
     "execution_count": 43,
     "metadata": {},
     "output_type": "execute_result"
    }
   ],
   "source": [
    "# Call the function\n",
    "load_and_filter_datasets(directories, datasets, output_directory)"
   ]
  },
  {
   "cell_type": "code",
   "execution_count": null,
   "id": "910481db-4b47-49b0-bdb7-2fafbeb40a6f",
   "metadata": {},
   "outputs": [],
   "source": []
  }
 ],
 "metadata": {
  "kernelspec": {
   "display_name": "Python 3 (ipykernel)",
   "language": "python",
   "name": "python3"
  },
  "language_info": {
   "codemirror_mode": {
    "name": "ipython",
    "version": 3
   },
   "file_extension": ".py",
   "mimetype": "text/x-python",
   "name": "python",
   "nbconvert_exporter": "python",
   "pygments_lexer": "ipython3",
   "version": "3.11.4"
  }
 },
 "nbformat": 4,
 "nbformat_minor": 5
}
