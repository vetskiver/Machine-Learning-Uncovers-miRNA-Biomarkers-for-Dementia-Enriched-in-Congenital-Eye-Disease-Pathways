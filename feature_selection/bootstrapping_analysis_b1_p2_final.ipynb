{
 "cells": [
  {
   "cell_type": "markdown",
   "id": "15e2850e-7629-4809-8014-e09938beb068",
   "metadata": {},
   "source": [
    "### Load and Filter Datasets\n",
    "\n",
    "This section of the code processes and filters datasets based on selected features:\n",
    "1. **Setup**:\n",
    "   - **Output Directory**: Creates the output directory if it does not already exist.\n",
    "   - **Essential Columns**: List of essential columns to keep in all datasets (`\"Age\"`, `\"Sex\"`, `\"APOE4\"`, `\"Diagnosis\"`, `\"ID_1\"`).\n",
    "\n",
    "2. **Processing Each Directory and Dataset**:\n",
    "   - **Directory and Dataset Pairing**: Matches each directory with its corresponding dataset.\n",
    "   - **Feature Extraction**:\n",
    "     - **Load RFE Results**: Reads `rfe_results.csv` to get the list of selected features.\n",
    "     - **Extract Features**: Assumes the `Feature` column in `rfe_results.csv` lists the features to keep.\n",
    "   - **Dataset Loading**:\n",
    "     - **Ensure 'ID_1'**: Moves the `'ID_1'` column to the first position in the dataset.\n",
    "     - **Filter Columns**: Combines essential columns with selected features, ensuring `'ID_1'` is first.\n",
    "   - **Save Filtered Dataset**: Saves the filtered dataset to the specified output directory with the condition's name.\n",
    "\n",
    "3. **Results**:\n",
    "   - **Return**: Provides a dictionary with the status of dataset processing and saving."
   ]
  },
  {
   "cell_type": "code",
   "execution_count": 1,
   "id": "11fd8540-bd5d-4911-abcd-36b1bf74402c",
   "metadata": {},
   "outputs": [],
   "source": [
    "import pandas as pd\n",
    "import os"
   ]
  },
  {
   "cell_type": "code",
   "execution_count": 2,
   "id": "dee1c73a-e889-427e-abd8-392d7e17d72b",
   "metadata": {},
   "outputs": [],
   "source": [
    "# directories = [\n",
    "#     \"/home/aghasemi/CompBio481/feature_selection/feat_select_res_branch1_overall_p2/ad_vs_nc\",\n",
    "#     \"/home/aghasemi/CompBio481/feature_selection/feat_select_res_branch1_overall_p2/dlb_vs_nc\",\n",
    "#     \"/home/aghasemi/CompBio481/feature_selection/feat_select_res_branch1_overall_p2/mci_vs_nc\",\n",
    "#     \"/home/aghasemi/CompBio481/feature_selection/feat_select_res_branch1_overall_p2/nph_vs_nc\",\n",
    "#     \"/home/aghasemi/CompBio481/feature_selection/feat_select_res_branch1_overall_p2/vad_vs_nc\",\n",
    "# ]\n",
    "\n",
    "directories = [\n",
    "    \"/home/aghasemi/CompBio481/feature_selection/feat_select_res_branch1_sex_specific_p2_refinement/vad_nc_male\",\n",
    "    \"/home/aghasemi/CompBio481/feature_selection/feat_select_res_branch1_sex_specific_p2_refinement/vad_nc_female\",\n",
    "    \"/home/aghasemi/CompBio481/feature_selection/feat_select_res_branch1_sex_specific_p2_refinement/nph_nc_male\",\n",
    "    \"/home/aghasemi/CompBio481/feature_selection/feat_select_res_branch1_sex_specific_p2_refinement/nph_nc_female\",\n",
    "    \"/home/aghasemi/CompBio481/feature_selection/feat_select_res_branch1_sex_specific_p2_refinement/mci_nc_male\",\n",
    "    \"/home/aghasemi/CompBio481/feature_selection/feat_select_res_branch1_sex_specific_p2_refinement/mci_nc_female\",\n",
    "    \"/home/aghasemi/CompBio481/feature_selection/feat_select_res_branch1_sex_specific_p2_refinement/dlb_nc_male\",\n",
    "    \"/home/aghasemi/CompBio481/feature_selection/feat_select_res_branch1_sex_specific_p2_refinement/dlb_nc_female\",\n",
    "    \"/home/aghasemi/CompBio481/feature_selection/feat_select_res_branch1_sex_specific_p2_refinement/ad_nc_male\",\n",
    "    \"/home/aghasemi/CompBio481/feature_selection/feat_select_res_branch1_sex_specific_p2_refinement/ad_nc_female\",\n",
    "]"
   ]
  },
  {
   "cell_type": "code",
   "execution_count": 5,
   "id": "6b7bd57e-e094-48b4-86a7-1109e401b2c0",
   "metadata": {},
   "outputs": [],
   "source": [
    "# datasets = [\n",
    "#     \"/home/aghasemi/CompBio481/datasets/filtered_datasets_after_rank_feat_select_branch1_overall/ad_vs_nc.csv\",\n",
    "#     \"/home/aghasemi/CompBio481/datasets/filtered_datasets_after_rank_feat_select_branch1_overall/dlb_vs_nc.csv\",\n",
    "#     \"/home/aghasemi/CompBio481/datasets/filtered_datasets_after_rank_feat_select_branch1_overall/mci_vs_nc.csv\",\n",
    "#     \"/home/aghasemi/CompBio481/datasets/filtered_datasets_after_rank_feat_select_branch1_overall/nph_vs_nc.csv\",\n",
    "#     \"/home/aghasemi/CompBio481/datasets/filtered_datasets_after_rank_feat_select_branch1_overall/vad_vs_nc.csv\",\n",
    "# ]\n",
    "datasets = [\n",
    "    \"/home/aghasemi/CompBio481/datasets/filtered_datasets_after_rank_feat_select_branch1_sex_specific/vad_nc_male.csv\",\n",
    "    \"/home/aghasemi/CompBio481/datasets/filtered_datasets_after_rank_feat_select_branch1_sex_specific/vad_nc_female.csv\",\n",
    "    \"/home/aghasemi/CompBio481/datasets/filtered_datasets_after_rank_feat_select_branch1_sex_specific/nph_nc_male.csv\",\n",
    "    \"/home/aghasemi/CompBio481/datasets/filtered_datasets_after_rank_feat_select_branch1_sex_specific/nph_nc_female.csv\",\n",
    "    \"/home/aghasemi/CompBio481/datasets/filtered_datasets_after_rank_feat_select_branch1_sex_specific/mci_nc_male.csv\",\n",
    "    \"/home/aghasemi/CompBio481/datasets/filtered_datasets_after_rank_feat_select_branch1_sex_specific/mci_nc_female.csv\",\n",
    "    \"/home/aghasemi/CompBio481/datasets/filtered_datasets_after_rank_feat_select_branch1_sex_specific/dlb_nc_male.csv\",\n",
    "    \"/home/aghasemi/CompBio481/datasets/filtered_datasets_after_rank_feat_select_branch1_sex_specific/dlb_nc_female.csv\",\n",
    "    \"/home/aghasemi/CompBio481/datasets/filtered_datasets_after_rank_feat_select_branch1_sex_specific/ad_nc_male.csv\",\n",
    "    \"/home/aghasemi/CompBio481/datasets/filtered_datasets_after_rank_feat_select_branch1_sex_specific/ad_nc_female.csv\",\n",
    "]"
   ]
  },
  {
   "cell_type": "markdown",
   "id": "a4c2ce3c-f79c-4e14-930c-2c9f3905f105",
   "metadata": {},
   "source": [
    "**Filter Datasets**"
   ]
  },
  {
   "cell_type": "code",
   "execution_count": 6,
   "id": "1ebb8383-de5b-4bbc-a3b5-eee7306d22f6",
   "metadata": {},
   "outputs": [],
   "source": [
    "import pandas as pd\n",
    "import os"
   ]
  },
  {
   "cell_type": "code",
   "execution_count": 7,
   "id": "56d0af06-0811-45a6-8244-c0c2eb52abc7",
   "metadata": {},
   "outputs": [],
   "source": [
    "def load_and_filter_datasets(directories, datasets, output_directory):\n",
    "    if not os.path.exists(output_directory):\n",
    "        os.makedirs(output_directory)  # Create the output directory if it doesn't exist\n",
    "\n",
    "    results = {}\n",
    "    essential_cols = [\"Age\", \"Sex\", \"APOE4\", \"Diagnosis\", \"ID_1\"]  # Essential columns list including 'ID_1'\n",
    "\n",
    "    # Loop through each directory and its corresponding dataset\n",
    "    for dir_path, dataset_path in zip(directories, datasets):\n",
    "        # Extract the condition name from the directory path\n",
    "        condition = os.path.basename(dir_path)\n",
    "\n",
    "        # Load the features from the rfe_results.csv file in the directory\n",
    "        rfe_path = os.path.join(dir_path, 'rfe_results.csv')\n",
    "        if not os.path.exists(rfe_path):\n",
    "            results[condition] = \"rfe_results.csv not found.\"\n",
    "            continue\n",
    "\n",
    "        rfe_results = pd.read_csv(rfe_path)\n",
    "\n",
    "        # Extract feature names which are selected (assuming a column 'Feature' lists them)\n",
    "        features_to_keep = list(rfe_results['Feature'])\n",
    "\n",
    "        # Load the corresponding dataset\n",
    "        df = pd.read_csv(dataset_path)\n",
    "\n",
    "        # Ensure 'ID_1' is the first column\n",
    "        if 'ID_1' in df.columns:\n",
    "            id_col = df.pop('ID_1')\n",
    "            df.insert(0, 'ID_1', id_col)\n",
    "\n",
    "        # Combine essential columns with the selected features, ensuring 'ID_1' is maintained at the start\n",
    "        features_to_keep = [col for col in essential_cols if col in df.columns and col != 'ID_1'] + features_to_keep\n",
    "        features_to_keep.insert(0, 'ID_1')  # Make sure 'ID_1' remains the first element\n",
    "\n",
    "        # Filter the DataFrame to only keep the required columns\n",
    "        filtered_df = df[features_to_keep]\n",
    "\n",
    "        # Define a new file name and save the filtered dataset\n",
    "        new_file_path = os.path.join(output_directory, f\"{condition}.csv\")\n",
    "        filtered_df.to_csv(new_file_path, index=False)\n",
    "        results[condition] = f\"Filtered dataset created and saved to {new_file_path}\"\n",
    "\n",
    "    return results"
   ]
  },
  {
   "cell_type": "code",
   "execution_count": 8,
   "id": "ca4900d6-76a7-484e-9075-4b83199463c6",
   "metadata": {},
   "outputs": [],
   "source": [
    "output_directory = \"/home/aghasemi/CompBio481/datasets/filtered_datasets_after_subset_feat_select_branch1_sex_specific_refinement\""
   ]
  },
  {
   "cell_type": "code",
   "execution_count": 9,
   "id": "f821e72f-f090-4ee2-b608-9b90f7ff26f6",
   "metadata": {},
   "outputs": [
    {
     "data": {
      "text/plain": [
       "{'vad_nc_male': 'Filtered dataset created and saved to /home/aghasemi/CompBio481/datasets/filtered_datasets_after_subset_feat_select_branch1_sex_specific_refinement/vad_nc_male.csv',\n",
       " 'vad_nc_female': 'Filtered dataset created and saved to /home/aghasemi/CompBio481/datasets/filtered_datasets_after_subset_feat_select_branch1_sex_specific_refinement/vad_nc_female.csv',\n",
       " 'nph_nc_male': 'Filtered dataset created and saved to /home/aghasemi/CompBio481/datasets/filtered_datasets_after_subset_feat_select_branch1_sex_specific_refinement/nph_nc_male.csv',\n",
       " 'nph_nc_female': 'Filtered dataset created and saved to /home/aghasemi/CompBio481/datasets/filtered_datasets_after_subset_feat_select_branch1_sex_specific_refinement/nph_nc_female.csv',\n",
       " 'mci_nc_male': 'Filtered dataset created and saved to /home/aghasemi/CompBio481/datasets/filtered_datasets_after_subset_feat_select_branch1_sex_specific_refinement/mci_nc_male.csv',\n",
       " 'mci_nc_female': 'Filtered dataset created and saved to /home/aghasemi/CompBio481/datasets/filtered_datasets_after_subset_feat_select_branch1_sex_specific_refinement/mci_nc_female.csv',\n",
       " 'dlb_nc_male': 'Filtered dataset created and saved to /home/aghasemi/CompBio481/datasets/filtered_datasets_after_subset_feat_select_branch1_sex_specific_refinement/dlb_nc_male.csv',\n",
       " 'dlb_nc_female': 'Filtered dataset created and saved to /home/aghasemi/CompBio481/datasets/filtered_datasets_after_subset_feat_select_branch1_sex_specific_refinement/dlb_nc_female.csv',\n",
       " 'ad_nc_male': 'Filtered dataset created and saved to /home/aghasemi/CompBio481/datasets/filtered_datasets_after_subset_feat_select_branch1_sex_specific_refinement/ad_nc_male.csv',\n",
       " 'ad_nc_female': 'Filtered dataset created and saved to /home/aghasemi/CompBio481/datasets/filtered_datasets_after_subset_feat_select_branch1_sex_specific_refinement/ad_nc_female.csv'}"
      ]
     },
     "execution_count": 9,
     "metadata": {},
     "output_type": "execute_result"
    }
   ],
   "source": [
    "# Call the function\n",
    "load_and_filter_datasets(directories, datasets, output_directory)"
   ]
  }
 ],
 "metadata": {
  "kernelspec": {
   "display_name": "Python 3 (ipykernel)",
   "language": "python",
   "name": "python3"
  },
  "language_info": {
   "codemirror_mode": {
    "name": "ipython",
    "version": 3
   },
   "file_extension": ".py",
   "mimetype": "text/x-python",
   "name": "python",
   "nbconvert_exporter": "python",
   "pygments_lexer": "ipython3",
   "version": "3.11.9"
  }
 },
 "nbformat": 4,
 "nbformat_minor": 5
}
