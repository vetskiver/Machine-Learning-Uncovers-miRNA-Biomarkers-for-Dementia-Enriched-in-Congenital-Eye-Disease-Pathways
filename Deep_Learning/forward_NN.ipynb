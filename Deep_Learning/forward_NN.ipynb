{
 "cells": [
  {
   "cell_type": "code",
   "execution_count": 15,
   "id": "ecc39a63-6523-4b09-8392-4e08a3ff64e3",
   "metadata": {},
   "outputs": [],
   "source": [
    "import pandas as pd\n",
    "from sklearn.model_selection import train_test_split\n",
    "from sklearn.preprocessing import StandardScaler\n",
    "from keras.models import Sequential\n",
    "from keras.layers import Dense\n",
    "from keras.optimizers import Adam"
   ]
  },
  {
   "cell_type": "code",
   "execution_count": 37,
   "id": "f7d619fb-c255-4353-9d0f-c5e9bbf5759f",
   "metadata": {},
   "outputs": [],
   "source": [
    "# Load data\n",
    "train_data = pd.read_csv('/home/aghasemi/CompBio481/datasets/processed_datasets/usable_datasets_branch2/nph_vs_nc_train.csv')\n",
    "test_data = pd.read_csv('/home/aghasemi/CompBio481/datasets/processed_datasets/usable_datasets_branch2/nph_vs_nc_test.csv')"
   ]
  },
  {
   "cell_type": "code",
   "execution_count": 38,
   "id": "be4c65d2-50cd-410f-9a9b-222a5582074c",
   "metadata": {},
   "outputs": [],
   "source": [
    "# Assume 'Diagnosis' is the target column\n",
    "X_train = train_data.drop(['Diagnosis', 'ID_1'], axis=1)\n",
    "y_train = train_data['Diagnosis']\n",
    "X_test = test_data.drop(['Diagnosis', 'ID_1'], axis=1)\n",
    "y_test = test_data['Diagnosis']"
   ]
  },
  {
   "cell_type": "code",
   "execution_count": 39,
   "id": "f47097f4-e00d-4b0f-81ab-18a6c757dc79",
   "metadata": {},
   "outputs": [],
   "source": [
    "# Scale features\n",
    "scaler = StandardScaler()\n",
    "X_train_scaled = scaler.fit_transform(X_train)\n",
    "X_test_scaled = scaler.transform(X_test)"
   ]
  },
  {
   "cell_type": "code",
   "execution_count": 40,
   "id": "6fc7f887-8e65-414a-b5ff-7e88aaccd599",
   "metadata": {},
   "outputs": [],
   "source": [
    "# Build model\n",
    "model = Sequential()\n",
    "model.add(Dense(128, input_dim=X_train_scaled.shape[1], activation='relu'))  # First hidden layer\n",
    "model.add(Dense(64, activation='relu'))  # Second hidden layer\n",
    "model.add(Dense(1, activation='sigmoid'))  # Output layer for binary classification"
   ]
  },
  {
   "cell_type": "code",
   "execution_count": 41,
   "id": "3d278a5c-b397-4774-9022-64f4e26a6d0f",
   "metadata": {},
   "outputs": [],
   "source": [
    "model.compile(loss='binary_crossentropy', optimizer='adam', metrics=['accuracy'])"
   ]
  },
  {
   "cell_type": "code",
   "execution_count": 42,
   "id": "fb5a8903-7a33-401a-ac69-46e88dc29dec",
   "metadata": {},
   "outputs": [
    {
     "name": "stdout",
     "output_type": "stream",
     "text": [
      "Epoch 1/10\n",
      "30/30 [==============================] - 1s 3ms/step - loss: 1.0635 - accuracy: 0.7205\n",
      "Epoch 2/10\n",
      "30/30 [==============================] - 0s 2ms/step - loss: 0.4059 - accuracy: 0.8418\n",
      "Epoch 3/10\n",
      "30/30 [==============================] - 0s 2ms/step - loss: 0.2649 - accuracy: 0.9125\n",
      "Epoch 4/10\n",
      "30/30 [==============================] - 0s 2ms/step - loss: 0.2625 - accuracy: 0.9360\n",
      "Epoch 5/10\n",
      "30/30 [==============================] - 0s 2ms/step - loss: 0.1889 - accuracy: 0.9360\n",
      "Epoch 6/10\n",
      "30/30 [==============================] - 0s 2ms/step - loss: 0.2488 - accuracy: 0.9327\n",
      "Epoch 7/10\n",
      "30/30 [==============================] - 0s 2ms/step - loss: 0.2435 - accuracy: 0.9360\n",
      "Epoch 8/10\n",
      "30/30 [==============================] - 0s 2ms/step - loss: 0.3209 - accuracy: 0.9226\n",
      "Epoch 9/10\n",
      "30/30 [==============================] - 0s 2ms/step - loss: 0.3471 - accuracy: 0.9091\n",
      "Epoch 10/10\n",
      "30/30 [==============================] - 0s 2ms/step - loss: 0.0938 - accuracy: 0.9630\n"
     ]
    },
    {
     "data": {
      "text/plain": [
       "<keras.callbacks.History at 0x7fe44dca8650>"
      ]
     },
     "execution_count": 42,
     "metadata": {},
     "output_type": "execute_result"
    }
   ],
   "source": [
    "model.fit(X_train_scaled, y_train, epochs=10, batch_size=10, verbose=1)"
   ]
  },
  {
   "cell_type": "code",
   "execution_count": 43,
   "id": "0e00e72f-ce73-4b5e-a091-aff370586932",
   "metadata": {},
   "outputs": [
    {
     "name": "stdout",
     "output_type": "stream",
     "text": [
      "WARNING:tensorflow:5 out of the last 18 calls to <function Model.make_test_function.<locals>.test_function at 0x7fe44dca2520> triggered tf.function retracing. Tracing is expensive and the excessive number of tracings could be due to (1) creating @tf.function repeatedly in a loop, (2) passing tensors with different shapes, (3) passing Python objects instead of tensors. For (1), please define your @tf.function outside of the loop. For (2), @tf.function has reduce_retracing=True option that can avoid unnecessary retracing. For (3), please refer to https://www.tensorflow.org/guide/function#controlling_retracing and https://www.tensorflow.org/api_docs/python/tf/function for  more details.\n",
      "3/3 [==============================] - 0s 2ms/step - loss: 1.4577 - accuracy: 0.7600\n",
      "Test Loss: 1.45769202709198, Test Accuracy: 0.7599999904632568\n"
     ]
    }
   ],
   "source": [
    "# Evaluate model\n",
    "loss, accuracy = model.evaluate(X_test_scaled, y_test, verbose=1)\n",
    "print(f'Test Loss: {loss}, Test Accuracy: {accuracy}')"
   ]
  },
  {
   "cell_type": "markdown",
   "id": "b192e181-124c-4803-bf78-c95db6c9bbbd",
   "metadata": {},
   "source": [
    "**Test 2**"
   ]
  },
  {
   "cell_type": "code",
   "execution_count": 105,
   "id": "e337578d-30b4-4ecb-b39a-000a1fcbb51d",
   "metadata": {},
   "outputs": [],
   "source": [
    "import pandas as pd\n",
    "import numpy as np\n",
    "from sklearn.model_selection import StratifiedKFold\n",
    "from sklearn.preprocessing import StandardScaler\n",
    "from keras.models import Sequential\n",
    "from keras.layers import Dense\n",
    "from keras.callbacks import EarlyStopping"
   ]
  },
  {
   "cell_type": "code",
   "execution_count": 124,
   "id": "a088dcef-0dae-4b44-8bf7-af3f16e20390",
   "metadata": {},
   "outputs": [],
   "source": [
    "# Load data\n",
    "train_data = pd.read_csv('/home/aghasemi/CompBio481/datasets/processed_datasets/usable_datasets_branch2/NC_vs_VaD_train.csv')\n",
    "test_data = pd.read_csv('/home/aghasemi/CompBio481/datasets/processed_datasets/usable_datasets_branch2/NC_vs_VaD_test.csv')"
   ]
  },
  {
   "cell_type": "code",
   "execution_count": 125,
   "id": "b8d28970-b24a-465b-9df3-6f1dab9c8cb9",
   "metadata": {},
   "outputs": [],
   "source": [
    "# Prepare training data\n",
    "X_train = train_data.drop(['Diagnosis', 'ID_1'], axis=1)\n",
    "y_train = train_data['Diagnosis']\n",
    "X_test = test_data.drop(['Diagnosis', 'ID_1'], axis=1)\n",
    "y_test = test_data['Diagnosis']"
   ]
  },
  {
   "cell_type": "code",
   "execution_count": 126,
   "id": "8845f804-bb30-49dc-9916-8a7073d62622",
   "metadata": {},
   "outputs": [],
   "source": [
    "# Scale features\n",
    "scaler = StandardScaler()\n",
    "X_train_scaled = scaler.fit_transform(X_train)\n",
    "X_test_scaled = scaler.transform(X_test)"
   ]
  },
  {
   "cell_type": "code",
   "execution_count": 127,
   "id": "c6c61d5b-889c-4471-af5b-796fe60b67a4",
   "metadata": {},
   "outputs": [],
   "source": [
    "# Define 5-fold stratified cross-validation\n",
    "skf = StratifiedKFold(n_splits=5, shuffle=True, random_state=42)\n",
    "fold_no = 1\n",
    "loss_per_fold = []\n",
    "accuracy_per_fold = []"
   ]
  },
  {
   "cell_type": "code",
   "execution_count": 128,
   "id": "7b1f17a6-108a-437d-9df4-61d680a67a17",
   "metadata": {},
   "outputs": [
    {
     "name": "stdout",
     "output_type": "stream",
     "text": [
      "Epoch 1/50\n",
      "25/25 [==============================] - 6s 113ms/step - loss: 0.8164 - accuracy: 0.7397 - val_loss: 1.9094 - val_accuracy: 0.8033\n",
      "Epoch 2/50\n",
      "25/25 [==============================] - 2s 67ms/step - loss: 0.4113 - accuracy: 0.8595 - val_loss: 0.8567 - val_accuracy: 0.7213\n",
      "Epoch 3/50\n",
      "25/25 [==============================] - 1s 42ms/step - loss: 0.5280 - accuracy: 0.9174 - val_loss: 1.1117 - val_accuracy: 0.7705\n",
      "Epoch 4/50\n",
      "25/25 [==============================] - 2s 59ms/step - loss: 0.4855 - accuracy: 0.9008 - val_loss: 1.0130 - val_accuracy: 0.7377\n",
      "Epoch 5/50\n",
      "25/25 [==============================] - 2s 63ms/step - loss: 0.5074 - accuracy: 0.8760 - val_loss: 1.9577 - val_accuracy: 0.7213\n",
      "Epoch 6/50\n",
      "25/25 [==============================] - 2s 66ms/step - loss: 0.4447 - accuracy: 0.9256 - val_loss: 0.6600 - val_accuracy: 0.7705\n",
      "Epoch 7/50\n",
      "25/25 [==============================] - 2s 66ms/step - loss: 0.1245 - accuracy: 0.9628 - val_loss: 0.5272 - val_accuracy: 0.8197\n",
      "Epoch 8/50\n",
      "25/25 [==============================] - 1s 59ms/step - loss: 0.0779 - accuracy: 0.9876 - val_loss: 0.5249 - val_accuracy: 0.8197\n",
      "Epoch 9/50\n",
      "25/25 [==============================] - 2s 67ms/step - loss: 0.0611 - accuracy: 0.9959 - val_loss: 0.4991 - val_accuracy: 0.8033\n",
      "Epoch 10/50\n",
      "25/25 [==============================] - 1s 59ms/step - loss: 0.0384 - accuracy: 0.9835 - val_loss: 0.5120 - val_accuracy: 0.7705\n",
      "Epoch 11/50\n",
      "25/25 [==============================] - 2s 62ms/step - loss: 0.0353 - accuracy: 0.9917 - val_loss: 0.8089 - val_accuracy: 0.8033\n",
      "Epoch 12/50\n",
      "25/25 [==============================] - 1s 48ms/step - loss: 0.1460 - accuracy: 0.9711 - val_loss: 0.7645 - val_accuracy: 0.7705\n",
      "Epoch 13/50\n",
      "25/25 [==============================] - 2s 66ms/step - loss: 0.2354 - accuracy: 0.9463 - val_loss: 0.9424 - val_accuracy: 0.7869\n",
      "Epoch 14/50\n",
      "25/25 [==============================] - 2s 59ms/step - loss: 0.1979 - accuracy: 0.9628 - val_loss: 1.0849 - val_accuracy: 0.7869\n",
      "Score for fold 1: loss of 0.4990762174129486; accuracy of 80.32786846160889%\n",
      "Epoch 1/50\n",
      "25/25 [==============================] - 6s 92ms/step - loss: 0.8990 - accuracy: 0.7273 - val_loss: 0.7952 - val_accuracy: 0.7705\n",
      "Epoch 2/50\n",
      "25/25 [==============================] - 1s 59ms/step - loss: 0.6759 - accuracy: 0.8140 - val_loss: 0.8206 - val_accuracy: 0.7705\n",
      "Epoch 3/50\n",
      "25/25 [==============================] - 2s 62ms/step - loss: 0.3109 - accuracy: 0.8884 - val_loss: 0.6915 - val_accuracy: 0.7377\n",
      "Epoch 4/50\n",
      "25/25 [==============================] - 1s 58ms/step - loss: 0.1945 - accuracy: 0.9421 - val_loss: 0.6900 - val_accuracy: 0.7377\n",
      "Epoch 5/50\n",
      "25/25 [==============================] - 1s 55ms/step - loss: 0.3806 - accuracy: 0.9132 - val_loss: 0.8057 - val_accuracy: 0.7377\n",
      "Epoch 6/50\n",
      "25/25 [==============================] - 1s 54ms/step - loss: 0.2295 - accuracy: 0.9380 - val_loss: 1.4011 - val_accuracy: 0.8033\n",
      "Epoch 7/50\n",
      "25/25 [==============================] - 1s 52ms/step - loss: 0.3553 - accuracy: 0.9380 - val_loss: 0.7669 - val_accuracy: 0.7705\n",
      "Epoch 8/50\n",
      "25/25 [==============================] - 1s 58ms/step - loss: 0.1583 - accuracy: 0.9711 - val_loss: 1.2081 - val_accuracy: 0.7705\n",
      "Epoch 9/50\n",
      "25/25 [==============================] - 2s 59ms/step - loss: 0.2638 - accuracy: 0.9587 - val_loss: 0.7830 - val_accuracy: 0.7869\n",
      "Score for fold 2: loss of 0.689996063709259; accuracy of 73.77049326896667%\n",
      "Epoch 1/50\n",
      "25/25 [==============================] - 6s 88ms/step - loss: 0.8891 - accuracy: 0.7975 - val_loss: 1.0117 - val_accuracy: 0.6721\n",
      "Epoch 2/50\n",
      "25/25 [==============================] - 2s 59ms/step - loss: 0.5841 - accuracy: 0.8099 - val_loss: 1.0070 - val_accuracy: 0.7377\n",
      "Epoch 3/50\n",
      "25/25 [==============================] - 1s 62ms/step - loss: 0.4553 - accuracy: 0.8967 - val_loss: 1.1011 - val_accuracy: 0.6557\n",
      "Epoch 4/50\n",
      "25/25 [==============================] - 1s 61ms/step - loss: 0.5660 - accuracy: 0.8471 - val_loss: 1.7462 - val_accuracy: 0.7541\n",
      "Epoch 5/50\n",
      "25/25 [==============================] - 1s 62ms/step - loss: 0.3517 - accuracy: 0.9008 - val_loss: 1.2174 - val_accuracy: 0.7705\n",
      "Epoch 6/50\n",
      "25/25 [==============================] - 2s 59ms/step - loss: 0.1252 - accuracy: 0.9669 - val_loss: 0.7192 - val_accuracy: 0.8033\n",
      "Epoch 7/50\n",
      "25/25 [==============================] - 2s 62ms/step - loss: 0.1851 - accuracy: 0.9504 - val_loss: 0.8852 - val_accuracy: 0.7049\n",
      "Epoch 8/50\n",
      "25/25 [==============================] - 1s 59ms/step - loss: 0.1349 - accuracy: 0.9711 - val_loss: 1.0161 - val_accuracy: 0.7541\n",
      "Epoch 9/50\n",
      "25/25 [==============================] - 1s 54ms/step - loss: 0.0561 - accuracy: 0.9917 - val_loss: 0.8257 - val_accuracy: 0.8033\n",
      "Epoch 10/50\n",
      "25/25 [==============================] - 1s 58ms/step - loss: 0.0197 - accuracy: 1.0000 - val_loss: 0.8671 - val_accuracy: 0.8033\n",
      "Epoch 11/50\n",
      "25/25 [==============================] - 2s 71ms/step - loss: 0.0105 - accuracy: 0.9959 - val_loss: 0.8888 - val_accuracy: 0.7541\n",
      "Score for fold 3: loss of 0.7192360162734985; accuracy of 80.32786846160889%\n",
      "Epoch 1/50\n",
      "25/25 [==============================] - 6s 84ms/step - loss: 0.8869 - accuracy: 0.7037 - val_loss: 0.6258 - val_accuracy: 0.6833\n",
      "Epoch 2/50\n",
      "25/25 [==============================] - 2s 67ms/step - loss: 0.7778 - accuracy: 0.8519 - val_loss: 0.6443 - val_accuracy: 0.8000\n",
      "Epoch 3/50\n",
      "25/25 [==============================] - 1s 54ms/step - loss: 0.3491 - accuracy: 0.8930 - val_loss: 0.6916 - val_accuracy: 0.7333\n",
      "Epoch 4/50\n",
      "25/25 [==============================] - 2s 63ms/step - loss: 0.2045 - accuracy: 0.9218 - val_loss: 0.5099 - val_accuracy: 0.8000\n",
      "Epoch 5/50\n",
      "25/25 [==============================] - 2s 71ms/step - loss: 0.1113 - accuracy: 0.9671 - val_loss: 0.5879 - val_accuracy: 0.7500\n",
      "Epoch 6/50\n",
      "25/25 [==============================] - 2s 75ms/step - loss: 0.0689 - accuracy: 0.9794 - val_loss: 0.7894 - val_accuracy: 0.7333\n",
      "Epoch 7/50\n",
      "25/25 [==============================] - 2s 62ms/step - loss: 0.0924 - accuracy: 0.9753 - val_loss: 0.4987 - val_accuracy: 0.8333\n",
      "Epoch 8/50\n",
      "25/25 [==============================] - 1s 42ms/step - loss: 0.5163 - accuracy: 0.9259 - val_loss: 0.9617 - val_accuracy: 0.7333\n",
      "Epoch 9/50\n",
      "25/25 [==============================] - 1s 58ms/step - loss: 0.5630 - accuracy: 0.9012 - val_loss: 0.7542 - val_accuracy: 0.7833\n",
      "Epoch 10/50\n",
      "25/25 [==============================] - 1s 50ms/step - loss: 0.2233 - accuracy: 0.9383 - val_loss: 0.7071 - val_accuracy: 0.8000\n",
      "Epoch 11/50\n",
      "25/25 [==============================] - 1s 58ms/step - loss: 0.0907 - accuracy: 0.9835 - val_loss: 0.7194 - val_accuracy: 0.7833\n",
      "Epoch 12/50\n",
      "25/25 [==============================] - 1s 54ms/step - loss: 0.0488 - accuracy: 0.9835 - val_loss: 0.6050 - val_accuracy: 0.8333\n",
      "Score for fold 4: loss of 0.49869340658187866; accuracy of 83.33333134651184%\n",
      "Epoch 1/50\n",
      "25/25 [==============================] - 10s 105ms/step - loss: 0.7186 - accuracy: 0.7778 - val_loss: 0.9413 - val_accuracy: 0.6667\n",
      "Epoch 2/50\n",
      "25/25 [==============================] - 2s 66ms/step - loss: 0.3223 - accuracy: 0.8683 - val_loss: 0.4521 - val_accuracy: 0.8667\n",
      "Epoch 3/50\n",
      "25/25 [==============================] - 2s 63ms/step - loss: 0.3140 - accuracy: 0.8971 - val_loss: 0.6993 - val_accuracy: 0.8167\n",
      "Epoch 4/50\n",
      "25/25 [==============================] - 2s 71ms/step - loss: 0.2762 - accuracy: 0.9383 - val_loss: 1.2128 - val_accuracy: 0.7333\n",
      "Epoch 5/50\n",
      "25/25 [==============================] - 2s 75ms/step - loss: 0.1581 - accuracy: 0.9547 - val_loss: 0.8602 - val_accuracy: 0.8167\n",
      "Epoch 6/50\n",
      "25/25 [==============================] - 1s 50ms/step - loss: 0.3843 - accuracy: 0.8930 - val_loss: 0.8355 - val_accuracy: 0.8167\n",
      "Epoch 7/50\n",
      "25/25 [==============================] - 2s 66ms/step - loss: 0.2816 - accuracy: 0.9424 - val_loss: 1.1446 - val_accuracy: 0.7500\n",
      "Score for fold 5: loss of 0.4521109163761139; accuracy of 86.66666746139526%\n"
     ]
    }
   ],
   "source": [
    "for train_index, test_index in skf.split(X_train_scaled, y_train):\n",
    "    # Split data\n",
    "    X_train_fold, X_val_fold = X_train_scaled[train_index], X_train_scaled[test_index]\n",
    "    y_train_fold, y_val_fold = y_train.iloc[train_index], y_train.iloc[test_index]\n",
    "\n",
    "    # Build model\n",
    "    model = Sequential([\n",
    "        Dense(128, input_dim=X_train_fold.shape[1], activation='relu'),\n",
    "        Dense(64, activation='relu'),\n",
    "        Dense(1, activation='sigmoid')\n",
    "    ])\n",
    "\n",
    "    # Compile model\n",
    "    model.compile(loss='binary_crossentropy', optimizer='adam', metrics=['accuracy'])\n",
    "\n",
    "    # Fit model with early stopping\n",
    "    early_stopping = EarlyStopping(monitor='val_loss', patience=5, restore_best_weights=True)\n",
    "    model.fit(X_train_fold, y_train_fold, epochs=50, batch_size=10, verbose=1, validation_data=(X_val_fold, y_val_fold), callbacks=[early_stopping])\n",
    "\n",
    "    # Evaluate model on the validation fold\n",
    "    scores = model.evaluate(X_val_fold, y_val_fold, verbose=0)\n",
    "    print(f'Score for fold {fold_no}: {model.metrics_names[0]} of {scores[0]}; {model.metrics_names[1]} of {scores[1]*100}%')\n",
    "    loss_per_fold.append(scores[0])\n",
    "    accuracy_per_fold.append(scores[1] * 100)\n",
    "    fold_no += 1"
   ]
  },
  {
   "cell_type": "code",
   "execution_count": 129,
   "id": "c4ba3c05-de89-4413-a11c-57683d3d2afa",
   "metadata": {},
   "outputs": [
    {
     "name": "stdout",
     "output_type": "stream",
     "text": [
      "------------------------------------------------------------------------\n",
      "Score per fold\n",
      "------------------------------------------------------------------------\n",
      "> Fold 1 - Loss: 0.4990762174129486 - Accuracy: 80.32786846160889%\n",
      "------------------------------------------------------------------------\n",
      "> Fold 2 - Loss: 0.689996063709259 - Accuracy: 73.77049326896667%\n",
      "------------------------------------------------------------------------\n",
      "> Fold 3 - Loss: 0.7192360162734985 - Accuracy: 80.32786846160889%\n",
      "------------------------------------------------------------------------\n",
      "> Fold 4 - Loss: 0.49869340658187866 - Accuracy: 83.33333134651184%\n",
      "------------------------------------------------------------------------\n",
      "> Fold 5 - Loss: 0.4521109163761139 - Accuracy: 86.66666746139526%\n",
      "------------------------------------------------------------------------\n",
      "Average scores for all folds:\n",
      "> Accuracy: 80.88524580001831 (+- 4.258145179357782)\n",
      "> Loss: 0.5718225240707397\n",
      "------------------------------------------------------------------------\n"
     ]
    }
   ],
   "source": [
    "# == Provide average scores ==\n",
    "print('------------------------------------------------------------------------')\n",
    "print('Score per fold')\n",
    "for i in range(0, len(accuracy_per_fold)):\n",
    "    print('------------------------------------------------------------------------')\n",
    "    print(f'> Fold {i+1} - Loss: {loss_per_fold[i]} - Accuracy: {accuracy_per_fold[i]}%')\n",
    "print('------------------------------------------------------------------------')\n",
    "print('Average scores for all folds:')\n",
    "print(f'> Accuracy: {np.mean(accuracy_per_fold)} (+- {np.std(accuracy_per_fold)})')\n",
    "print(f'> Loss: {np.mean(loss_per_fold)}')\n",
    "print('------------------------------------------------------------------------')"
   ]
  },
  {
   "cell_type": "code",
   "execution_count": 130,
   "id": "60e5c086-c167-446c-bd80-59f969f763ce",
   "metadata": {},
   "outputs": [
    {
     "name": "stdout",
     "output_type": "stream",
     "text": [
      "3/3 [==============================] - 0s 44ms/step - loss: 0.9559 - accuracy: 0.7237\n",
      "Final Test Loss: 0.9559434652328491, Final Test Accuracy: 72.36841917037964%\n"
     ]
    }
   ],
   "source": [
    "# Final evaluation on the test data\n",
    "final_scores = model.evaluate(X_test_scaled, y_test, verbose=1)\n",
    "print(f'Final Test Loss: {final_scores[0]}, Final Test Accuracy: {final_scores[1]*100}%')"
   ]
  },
  {
   "cell_type": "code",
   "execution_count": 131,
   "id": "18634d60-891e-420e-a35c-e19175ab7625",
   "metadata": {},
   "outputs": [],
   "source": [
    "# Prepare the data in a DataFrame\n",
    "data = {\n",
    "    'Final Train Accuracy': [np.mean(accuracy_per_fold)],\n",
    "    'Final Test Accuracy': [final_scores[1] * 100]\n",
    "}\n",
    "results_df = pd.DataFrame(data)"
   ]
  },
  {
   "cell_type": "code",
   "execution_count": 132,
   "id": "7235bffa-61ac-41cb-8593-c9251efec38c",
   "metadata": {},
   "outputs": [],
   "source": [
    "# Save the DataFrame to a CSV file\n",
    "results_df.to_csv('NC_vs_VaD_accuracy_results.csv', index=False)"
   ]
  }
 ],
 "metadata": {
  "kernelspec": {
   "display_name": "Python 3 (ipykernel)",
   "language": "python",
   "name": "python3"
  },
  "language_info": {
   "codemirror_mode": {
    "name": "ipython",
    "version": 3
   },
   "file_extension": ".py",
   "mimetype": "text/x-python",
   "name": "python",
   "nbconvert_exporter": "python",
   "pygments_lexer": "ipython3",
   "version": "3.11.4"
  }
 },
 "nbformat": 4,
 "nbformat_minor": 5
}
