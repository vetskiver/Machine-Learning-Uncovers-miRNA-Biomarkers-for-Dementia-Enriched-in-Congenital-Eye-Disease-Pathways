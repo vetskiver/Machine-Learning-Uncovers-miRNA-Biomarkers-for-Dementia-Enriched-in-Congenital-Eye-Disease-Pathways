{
 "cells": [
  {
   "cell_type": "markdown",
   "id": "d753f97a-1f79-4a04-b263-ebb8086c9127",
   "metadata": {},
   "source": [
    "### Extract and Clean Clinical Factors\n",
    "\n",
    "**Import Libraries:** \n",
    "Imports the `pandas` library for data manipulation."
   ]
  },
  {
   "cell_type": "code",
   "execution_count": 8,
   "id": "a9cd4209-4d9b-4949-8469-1e567c0cd830",
   "metadata": {},
   "outputs": [],
   "source": [
    "import pandas as pd"
   ]
  },
  {
   "cell_type": "markdown",
   "id": "73e0df7e-6554-4427-9b5b-bceda499ce7d",
   "metadata": {},
   "source": [
    "**Define `extract_and_clean_clinical_factors` Function:** \n",
    "- **Load the Data:** Reads the clinical factors data from a CSV file into a DataFrame.\n",
    "- **Extract Sample IDs:** Identifies the row with sample IDs and extracts them.\n",
    "- **Extract Characteristics:** Finds rows containing sample characteristics.\n",
    "- **Initialize Dictionary:** Creates a dictionary to store characteristics data with sample IDs.\n",
    "- **Iterate Over Rows:** Extracts and separates characteristic names and values, updates the dictionary.\n",
    "- **Transform Data:** Converts the dictionary into a DataFrame.\n",
    "- **Save Data:** Optionally saves the cleaned DataFrame to a CSV file.\n",
    "- **Return DataFrame:** Returns the cleaned DataFrame.\n",
    "\n",
    "**Example Usage:** \n",
    "Calls the function with a file path and an optional output file path, and prints the first few rows of the cleaned DataFrame."
   ]
  },
  {
   "cell_type": "code",
   "execution_count": 9,
   "id": "6979b33d-39ef-42c7-8544-4b17deef9460",
   "metadata": {},
   "outputs": [],
   "source": [
    "def extract_and_clean_clinical_factors(file_path, output_file=None):\n",
    "    # Load the clinical factors data\n",
    "    clinical_factors = pd.read_csv(file_path)\n",
    "\n",
    "    # Extract Sample IDs\n",
    "    sample_ids_row = clinical_factors[clinical_factors.iloc[:, 0] == '!Sample_geo_accession']\n",
    "    sample_ids = sample_ids_row.iloc[0, 1:].values  # Exclude the first column which is the header\n",
    "\n",
    "    # Extract rows that contain characteristics\n",
    "    characteristics_rows = clinical_factors[clinical_factors.iloc[:, 0].str.startswith('!Sample_characteristics_ch1')]\n",
    "\n",
    "    # Initialize the dictionary to hold the characteristics data\n",
    "    characteristics_data = {'SampleID': sample_ids}\n",
    "\n",
    "    # Iterate over each characteristic row to extract and separate the data\n",
    "    for _, row in characteristics_rows.iterrows():\n",
    "        for i, value in enumerate(row.iloc[1:].values):  # Skip the row label\n",
    "            # Split the value to separate the characteristic name from its value\n",
    "            characteristic_name, characteristic_value = value.split(':')\n",
    "            characteristic_name = characteristic_name.strip().replace(' ', '_').lower()\n",
    "\n",
    "            # If the characteristic name is not in the dictionary, add it\n",
    "            if characteristic_name not in characteristics_data:\n",
    "                characteristics_data[characteristic_name] = [None] * len(sample_ids)\n",
    "            \n",
    "            # Update the characteristic value for the current sample\n",
    "            characteristics_data[characteristic_name][i] = characteristic_value.strip()\n",
    "\n",
    "    # Transform the corrected data into a DataFrame\n",
    "    cleaned_clinical_factors = pd.DataFrame(characteristics_data)\n",
    "\n",
    "    # Save to CSV if an output file path is provided\n",
    "    if output_file:\n",
    "        cleaned_clinical_factors.to_csv(output_file, index=False)\n",
    "\n",
    "    return cleaned_clinical_factors"
   ]
  },
  {
   "cell_type": "code",
   "execution_count": 11,
   "id": "665f59a9-f07a-41f7-81bf-06dad82c43c7",
   "metadata": {},
   "outputs": [
    {
     "name": "stdout",
     "output_type": "stream",
     "text": [
      "     SampleID tissue diagnosis age     sex apoe4\n",
      "0  GSM5107459  serum       NPH  83    male     0\n",
      "1  GSM5107460  serum       NPH  75    male     0\n",
      "2  GSM5107461  serum       NPH  87  female     0\n",
      "3  GSM5107462  serum       NPH  73  female     0\n",
      "4  GSM5107463  serum       NPH  79  female     0\n"
     ]
    }
   ],
   "source": [
    "# Example usage\n",
    "file_path = '/home/aghasemi/CompBio481/datasets/original_datasets/GSE167559_clinical_factors.csv'\n",
    "output_file = '/home/aghasemi/CompBio481/datasets/extracted_clinical_factors/GSE167559_clinical_factors_extracted.csv'\n",
    "cleaned_df = extract_and_clean_clinical_factors(file_path, output_file)\n",
    "print(cleaned_df.head())"
   ]
  },
  {
   "cell_type": "markdown",
   "id": "d8daaeed-e49d-47b4-b3e5-30590adc02b5",
   "metadata": {},
   "source": [
    "**Concat Clinical Factors**"
   ]
  },
  {
   "cell_type": "markdown",
   "id": "f436f986-91aa-470d-86d3-5a9c79703d40",
   "metadata": {},
   "source": [
    "### Combine Clinical Factors\n",
    "\n",
    "**Define `combine_dataframes` Function:** \n",
    "- **Read DataFrames:** Reads each CSV file into a DataFrame and stores them in a list.\n",
    "- **Concatenate DataFrames:** Combines the DataFrames row-wise into a single DataFrame.\n",
    "- **Reset Index:** Resets the index of the combined DataFrame.\n",
    "- **Remove Column:** Drops the 'tissue' column if it exists.\n",
    "- **Save Data:** Optionally saves the combined DataFrame to a CSV file.\n",
    "- **Return DataFrame:** Returns the combined DataFrame.\n",
    "\n",
    "**Example Usage:** \n",
    "Calls the function with file paths and an optional output file path, and prints the first few rows of the combined DataFrame."
   ]
  },
  {
   "cell_type": "code",
   "execution_count": 13,
   "id": "f65a818d-a634-40d8-9297-e1a137f5280a",
   "metadata": {},
   "outputs": [],
   "source": [
    "def combine_dataframes(file_paths, output_file=None):\n",
    "    # Read each CSV file into a DataFrame and store them in a list\n",
    "    dataframes = [pd.read_csv(file_path) for file_path in file_paths]\n",
    "    \n",
    "    # Concatenate the DataFrames row-wise\n",
    "    combined_df = pd.concat(dataframes, axis=0)\n",
    "    \n",
    "    # Reset the index of the combined DataFrame\n",
    "    combined_df.reset_index(drop=True, inplace=True)\n",
    "    \n",
    "    # Remove the 'tissue' column if it exists\n",
    "    if 'tissue' in combined_df.columns:\n",
    "        combined_df.drop(columns=['tissue'], inplace=True)\n",
    "    \n",
    "    # Save to CSV if an output file path is provided\n",
    "    if output_file:\n",
    "        combined_df.to_csv(output_file, index=False)\n",
    "    \n",
    "    return combined_df"
   ]
  },
  {
   "cell_type": "code",
   "execution_count": 14,
   "id": "a59bcf97-6f83-4f52-8aeb-6de30392ceb0",
   "metadata": {},
   "outputs": [],
   "source": [
    "# Example usage\n",
    "file_paths = [\n",
    "    '/home/aghasemi/CompBio481/datasets/extracted_clinical_factors/GSE167559_clinical_factors_extracted.csv',\n",
    "    '/home/aghasemi/CompBio481/datasets/extracted_clinical_factors/GSE120584_clinical_factors_extracted.csv'\n",
    "]\n",
    "output_file = '/home/aghasemi/CompBio481/datasets/processed_datasets/GSE120584_&_GSE167559_clinical_factors_combined.csv'"
   ]
  },
  {
   "cell_type": "code",
   "execution_count": 15,
   "id": "d57f04b6-939a-4513-87c8-2e00a4be068a",
   "metadata": {},
   "outputs": [
    {
     "name": "stdout",
     "output_type": "stream",
     "text": [
      "     SampleID diagnosis  age     sex  apoe4\n",
      "0  GSM5107459       NPH   83    male      0\n",
      "1  GSM5107460       NPH   75    male      0\n",
      "2  GSM5107461       NPH   87  female      0\n",
      "3  GSM5107462       NPH   73  female      0\n",
      "4  GSM5107463       NPH   79  female      0\n"
     ]
    }
   ],
   "source": [
    "combined_df = combine_dataframes(file_paths, output_file)\n",
    "print(combined_df.head())"
   ]
  },
  {
   "cell_type": "markdown",
   "id": "4f1419bb-4e8a-4470-9ca0-851b440c8e06",
   "metadata": {},
   "source": [
    "### Check for Unique Clinical Factors\n",
    "\n",
    "**Import Libraries:** \n",
    "Imports the `pandas` library for data manipulation.\n",
    "\n",
    "**Read Combined Data:** \n",
    "Reads the combined clinical factors data from a CSV file into a DataFrame.\n",
    "\n",
    "**Find Duplicates:** \n",
    "Identifies duplicate rows in the DataFrame considering all columns.\n",
    "\n",
    "**Print Duplicates:** \n",
    "Prints the duplicate rows to inspect any repeated entries in the dataset."
   ]
  },
  {
   "cell_type": "code",
   "execution_count": 16,
   "id": "9fe56fe0-f1d2-4a62-b849-baeec93dad81",
   "metadata": {},
   "outputs": [],
   "source": [
    "clinical_factors = pd.read_csv(\"/home/aghasemi/CompBio481/datasets/processed_datasets/GSE120584_&_GSE167559_clinical_factors_combined.csv\")"
   ]
  },
  {
   "cell_type": "code",
   "execution_count": 19,
   "id": "bb68c7b9-a405-40f6-b572-21f482149ad2",
   "metadata": {},
   "outputs": [],
   "source": [
    "# Find duplicate rows, considering all columns\n",
    "duplicates = clinical_factors[clinical_factors.duplicated()]"
   ]
  },
  {
   "cell_type": "code",
   "execution_count": 20,
   "id": "0f6e7b94-5e7a-4c94-8c7b-ef73563bf99a",
   "metadata": {},
   "outputs": [
    {
     "name": "stdout",
     "output_type": "stream",
     "text": [
      "Empty DataFrame\n",
      "Columns: [SampleID, diagnosis, age, sex, apoe4]\n",
      "Index: []\n"
     ]
    }
   ],
   "source": [
    "# Print the duplicate rows\n",
    "print(duplicates)"
   ]
  }
 ],
 "metadata": {
  "kernelspec": {
   "display_name": "Python 3 (ipykernel)",
   "language": "python",
   "name": "python3"
  },
  "language_info": {
   "codemirror_mode": {
    "name": "ipython",
    "version": 3
   },
   "file_extension": ".py",
   "mimetype": "text/x-python",
   "name": "python",
   "nbconvert_exporter": "python",
   "pygments_lexer": "ipython3",
   "version": "3.11.9"
  }
 },
 "nbformat": 4,
 "nbformat_minor": 5
}
